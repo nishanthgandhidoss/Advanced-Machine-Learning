{
 "cells": [
  {
   "cell_type": "markdown",
   "metadata": {},
   "source": [
    "# MY FIRST NEURAL NETS WITH TENSOPFLOW\n",
    "\n",
    "### Just kidding"
   ]
  },
  {
   "cell_type": "code",
   "execution_count": 1,
   "metadata": {},
   "outputs": [
    {
     "name": "stderr",
     "output_type": "stream",
     "text": [
      "Using TensorFlow backend.\n"
     ]
    },
    {
     "name": "stdout",
     "output_type": "stream",
     "text": [
      "(50000, 28, 28) (50000,)\n"
     ]
    },
    {
     "data": {
      "image/png": "[encoded data removed]",
      "text/plain": [
       "<matplotlib.figure.Figure at 0x7fb4cf5db780>"
      ]
     },
     "metadata": {},
     "output_type": "display_data"
    }
   ],
   "source": [
    "from preprocessed_mnist import load_dataset\n",
    "X_train, y_train, X_val, y_val, X_test, y_test = load_dataset()\n",
    "print(X_train.shape, y_train.shape)\n",
    "import matplotlib.pyplot as plt\n",
    "%matplotlib inline\n",
    "plt.imshow(X_train[0], cmap=\"Greys\");"
   ]
  },
  {
   "cell_type": "markdown",
   "metadata": {},
   "source": [
    "## Check the shape of inputs and outputs"
   ]
  },
  {
   "cell_type": "code",
   "execution_count": 2,
   "metadata": {},
   "outputs": [
    {
     "name": "stdout",
     "output_type": "stream",
     "text": [
      "Training input shape (50000, 28, 28)\n",
      "Validation input shape (10000, 28, 28)\n",
      "Testing input shape (10000, 28, 28)\n",
      "Training output shape (50000,)\n",
      "Validation output shape (10000,)\n",
      "Testing output shape (10000,)\n"
     ]
    }
   ],
   "source": [
    "print(\"Training input shape\", X_train.shape)\n",
    "print(\"Validation input shape\", X_val.shape)\n",
    "print(\"Testing input shape\", X_test.shape)\n",
    "print(\"Training output shape\", y_train.shape)\n",
    "print(\"Validation output shape\", y_val.shape)\n",
    "print(\"Testing output shape\", y_test.shape)"
   ]
  },
  {
   "cell_type": "code",
   "execution_count": 3,
   "metadata": {
    "collapsed": true
   },
   "outputs": [],
   "source": [
    "# Reshape the inputs of 28 * 28 into single 784 vectors\n",
    "X_train = X_train.reshape([50000, 784])\n",
    "X_val = X_val.reshape([10000, 784])\n",
    "X_test = X_test.reshape([10000, 784])"
   ]
  },
  {
   "cell_type": "markdown",
   "metadata": {},
   "source": [
    "## Importing Tensorflow and Numpy"
   ]
  },
  {
   "cell_type": "code",
   "execution_count": 4,
   "metadata": {
    "collapsed": true
   },
   "outputs": [],
   "source": [
    "import tensorflow as tf\n",
    "import numpy as np"
   ]
  },
  {
   "cell_type": "markdown",
   "metadata": {},
   "source": [
    "## Create the Placeholder for the training the data"
   ]
  },
  {
   "cell_type": "code",
   "execution_count": 5,
   "metadata": {
    "collapsed": true
   },
   "outputs": [],
   "source": [
    "# Input and outputs\n",
    "X = tf.placeholder(tf.float32, shape = (None, 784))\n",
    "y = tf.placeholder(tf.float32, shape = (None, 10))\n",
    "\n",
    "# Storing the probablities at the output layer\n",
    "keep_prob = tf.placeholder(tf.float32)"
   ]
  },
  {
   "cell_type": "markdown",
   "metadata": {},
   "source": [
    "## Initialize the weights and bias parameters"
   ]
  },
  {
   "cell_type": "code",
   "execution_count": 6,
   "metadata": {},
   "outputs": [],
   "source": [
    "# Weights and bias intialization for the MNIST data objects\n",
    "# Shape of the tensors is choosen by computing from the digits \n",
    "# pixel values. Variable are given for easy identification of those \n",
    "# while we perform the computation of the Neural Network graph\n",
    "W1 = tf.get_variable(\"W1\",  [784, 128], initializer = tf.contrib.layers.xavier_initializer())\n",
    "b1 = tf.get_variable(\"b1\",  [128], initializer = tf.zeros_initializer())\n",
    "W2 = tf.get_variable(\"W2\",  [128, 128], initializer = tf.contrib.layers.xavier_initializer())\n",
    "b2 = tf.get_variable(\"b2\",  [128], initializer = tf.zeros_initializer())\n",
    "W3 = tf.get_variable(\"W3\", [128, 10], initializer = tf.contrib.layers.xavier_initializer())\n",
    "b3 = tf.get_variable(\"b3\",  [10], initializer = tf.zeros_initializer())"
   ]
  },
  {
   "cell_type": "markdown",
   "metadata": {},
   "source": [
    "## Performing the Forward pass"
   ]
  },
  {
   "cell_type": "code",
   "execution_count": 7,
   "metadata": {
    "collapsed": true
   },
   "outputs": [],
   "source": [
    "Z1 = tf.matmul(X, W1)+b1\n",
    "A1 = tf.nn.relu(Z1)\n",
    "A1 = tf.nn.dropout(A1, keep_prob)\n",
    "Z2 = tf.matmul(A1, W2)+b2\n",
    "A2 = tf.nn.relu(Z2)\n",
    "A2 = tf.nn.dropout(A2, keep_prob)\n",
    "Z3 = tf.matmul(A2, W3)+b3\n",
    "A3 = tf.nn.sigmoid(Z3)"
   ]
  },
  {
   "cell_type": "markdown",
   "metadata": {},
   "source": [
    "## Initialize the Adam Optimizer"
   ]
  },
  {
   "cell_type": "code",
   "execution_count": 8,
   "metadata": {},
   "outputs": [],
   "source": [
    "# Compute the cost\n",
    "cost = tf.reduce_mean(tf.nn.softmax_cross_entropy_with_logits(labels = y, logits = A3))\n",
    "\n",
    "# Learning rate computation\n",
    "starter_learning_rate = 0.001\n",
    "global_step = tf.Variable(0, trainable = False)\n",
    "learning_rate = tf.train.exponential_decay(starter_learning_rate, global_step, 100, 0.85, staircase = True)\n",
    "\n",
    "# Optimizer calculation\n",
    "optimizer = tf.train.AdamOptimizer(learning_rate).minimize(cost)"
   ]
  },
  {
   "cell_type": "markdown",
   "metadata": {},
   "source": [
    "## Reshape the labels for one hot encoding"
   ]
  },
  {
   "cell_type": "code",
   "execution_count": 9,
   "metadata": {},
   "outputs": [],
   "source": [
    "y_train = np.eye(10)[y_train]\n",
    "y_val = np.eye(10)[y_val]\n",
    "y_test = np.eye(10)[y_test]"
   ]
  },
  {
   "cell_type": "markdown",
   "metadata": {},
   "source": [
    "## Model training"
   ]
  },
  {
   "cell_type": "code",
   "execution_count": 12,
   "metadata": {},
   "outputs": [
    {
     "name": "stdout",
     "output_type": "stream",
     "text": [
      "Epoch 10\n",
      "Train cost 1.5288\n",
      "Validation cost 1.52285\n",
      "Epoch 20\n",
      "Train cost 1.50471\n",
      "Validation cost 1.50356\n",
      "Epoch 30\n",
      "Train cost 1.49335\n",
      "Validation cost 1.49539\n",
      "Epoch 40\n",
      "Train cost 1.48617\n",
      "Validation cost 1.49036\n",
      "Epoch 50\n",
      "Train cost 1.4816\n",
      "Validation cost 1.48742\n",
      "Epoch 60\n",
      "Train cost 1.47844\n",
      "Validation cost 1.4854\n",
      "Epoch 70\n",
      "Train cost 1.47581\n",
      "Validation cost 1.48417\n",
      "Epoch 80\n",
      "Train cost 1.47412\n",
      "Validation cost 1.48329\n",
      "Epoch 90\n",
      "Train cost 1.47255\n",
      "Validation cost 1.48259\n",
      "Epoch 100\n",
      "Train cost 1.47127\n",
      "Validation cost 1.4818\n",
      "\n",
      "Train Set Accuracy: 0.9892\n",
      "Validation Set Accuracy: 0.9754\n",
      "Test Set Accuracy: 0.974\n"
     ]
    }
   ],
   "source": [
    "# Set the init and batch size for training\n",
    "init = tf.global_variables_initializer()\n",
    "batch_size = 3000\n",
    "\n",
    "# Create the tensorflow session\n",
    "with tf.Session() as sess:\n",
    "    sess.run(init)\n",
    "    train_costs = []\n",
    "    val_costs = []\n",
    "    # Looping in for 100 epochs\n",
    "    for epoch in range(100):\n",
    "        for i in range(0, 50000, batch_size):\n",
    "            sess.run(optimizer, feed_dict={X:X_train[i:i + batch_size], y:y_train[i:i + batch_size],\n",
    "                                           keep_prob:0.65})\n",
    "        train_costs.append(sess.run(cost, feed_dict = {X : X_train, y : y_train, keep_prob : 1}))\n",
    "        val_costs.append(sess.run(cost, feed_dict = {X : X_val, y : y_val, keep_prob : 1}))\n",
    "        if epoch % 10 == 9:\n",
    "            print(\"Epoch \" + str(epoch + 1))\n",
    "            print(\"Train cost \" + str(train_costs[-1]))\n",
    "            print(\"Validation cost \" + str(val_costs[-1]))\n",
    "    \n",
    "    # Calculate the correct predictions\n",
    "    predict_op = tf.argmax(Z3, 1)\n",
    "    correct_prediction = tf.equal(predict_op, tf.argmax(y, 1))\n",
    "\n",
    "    # Calculate accuracy on the test set\n",
    "    accuracy = tf.reduce_mean(tf.cast(correct_prediction, \"float\"))\n",
    "    train_accuracy = accuracy.eval({X : X_train, y : y_train, keep_prob : 1})\n",
    "    val_accuracy = accuracy.eval({X : X_val, y : y_val, keep_prob : 1})\n",
    "    test_accuracy = accuracy.eval({X : X_test, y : y_test, keep_prob : 1})\n",
    "    print(\"\")\n",
    "    print(\"Train Set Accuracy:\", train_accuracy)\n",
    "    print(\"Validation Set Accuracy:\", val_accuracy)\n",
    "    print(\"Test Set Accuracy:\", test_accuracy)"
   ]
  }
 ],
 "metadata": {
  "kernelspec": {
   "display_name": "Python 3",
   "language": "python",
   "name": "python3"
  },
  "language_info": {
   "codemirror_mode": {
    "name": "ipython",
    "version": 3
   },
   "file_extension": ".py",
   "mimetype": "text/x-python",
   "name": "python",
   "nbconvert_exporter": "python",
   "pygments_lexer": "ipython3",
   "version": "3.6.0"
  }
 },
 "nbformat": 4,
 "nbformat_minor": 2
}
