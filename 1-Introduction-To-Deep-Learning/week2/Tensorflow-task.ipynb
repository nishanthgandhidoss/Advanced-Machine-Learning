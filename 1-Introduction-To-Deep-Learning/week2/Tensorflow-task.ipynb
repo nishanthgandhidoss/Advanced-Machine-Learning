{
 "cells": [
  {
   "cell_type": "markdown",
   "metadata": {
    "slideshow": {
     "slide_type": "slide"
    }
   },
   "source": [
    "# Going deeper with Tensorflow\n",
    "\n",
    "In this video, we're going to study the tools you'll use to build deep learning models. Namely, [Tensorflow](https://www.tensorflow.org/).\n",
    "\n",
    "If you're running this notebook outside the course environment, you'll need to install tensorflow:\n",
    "* `pip install tensorflow` should install cpu-only TF on Linux & Mac OS\n",
    "* If you want GPU support from offset, see [TF install page](https://www.tensorflow.org/install/)"
   ]
  },
  {
   "cell_type": "code",
   "execution_count": 35,
   "metadata": {
    "collapsed": true
   },
   "outputs": [],
   "source": [
    "import sys\n",
    "sys.path.append(\"..\")\n",
    "import grading"
   ]
  },
  {
   "cell_type": "markdown",
   "metadata": {},
   "source": [
    "# Visualization"
   ]
  },
  {
   "cell_type": "markdown",
   "metadata": {},
   "source": [
    "Plase note that if you are running on the Coursera platform, you won't be able to access the tensorboard instance due to the network setup there. If you run the notebook locally, you should be able to access TensorBoard on http://127.0.0.1:7007/"
   ]
  },
  {
   "cell_type": "code",
   "execution_count": 36,
   "metadata": {},
   "outputs": [
    {
     "name": "stdout",
     "output_type": "stream",
     "text": [
      "/bin/sh: 1: killall: not found\r\n"
     ]
    }
   ],
   "source": [
    "! killall tensorboard\n",
    "import os\n",
    "os.system(\"tensorboard --logdir=/tmp/tboard --port=7007 &\");"
   ]
  },
  {
   "cell_type": "code",
   "execution_count": 37,
   "metadata": {
    "collapsed": true
   },
   "outputs": [],
   "source": [
    "import tensorflow as tf\n",
    "s = tf.InteractiveSession()"
   ]
  },
  {
   "cell_type": "markdown",
   "metadata": {},
   "source": [
    "# Warming up\n",
    "For starters, let's implement a python function that computes the sum of squares of numbers from 0 to N-1."
   ]
  },
  {
   "cell_type": "code",
   "execution_count": 38,
   "metadata": {
    "collapsed": true
   },
   "outputs": [],
   "source": [
    "import numpy as np\n",
    "def sum_sin(N):\n",
    "    return np.sum(np.arange(N)**2)"
   ]
  },
  {
   "cell_type": "code",
   "execution_count": 39,
   "metadata": {},
   "outputs": [
    {
     "name": "stdout",
     "output_type": "stream",
     "text": [
      "CPU times: user 0 ns, sys: 3.01 s, total: 3.01 s\n",
      "Wall time: 4.42 s\n"
     ]
    },
    {
     "data": {
      "text/plain": [
       "662921401752298880"
      ]
     },
     "execution_count": 39,
     "metadata": {},
     "output_type": "execute_result"
    }
   ],
   "source": [
    "%%time\n",
    "sum_sin(10**8)"
   ]
  },
  {
   "cell_type": "markdown",
   "metadata": {},
   "source": [
    "# Tensoflow teaser\n",
    "\n",
    "Doing the very same thing"
   ]
  },
  {
   "cell_type": "code",
   "execution_count": 40,
   "metadata": {
    "collapsed": true
   },
   "outputs": [],
   "source": [
    "# An integer parameter\n",
    "N = tf.placeholder('int64', name=\"input_to_your_function\")\n",
    "\n",
    "# A recipe on how to produce the same result\n",
    "result = tf.reduce_sum(tf.range(N)**2)"
   ]
  },
  {
   "cell_type": "code",
   "execution_count": 41,
   "metadata": {},
   "outputs": [
    {
     "data": {
      "text/plain": [
       "<tf.Tensor 'Sum_2:0' shape=() dtype=int64>"
      ]
     },
     "execution_count": 41,
     "metadata": {},
     "output_type": "execute_result"
    }
   ],
   "source": [
    "result"
   ]
  },
  {
   "cell_type": "code",
   "execution_count": 42,
   "metadata": {},
   "outputs": [
    {
     "name": "stdout",
     "output_type": "stream",
     "text": [
      "CPU times: user 160 ms, sys: 1.68 s, total: 1.84 s\n",
      "Wall time: 2.08 s\n"
     ]
    },
    {
     "data": {
      "text/plain": [
       "662921401752298880"
      ]
     },
     "execution_count": 42,
     "metadata": {},
     "output_type": "execute_result"
    }
   ],
   "source": [
    "%%time\n",
    "result.eval({N: 10**8})"
   ]
  },
  {
   "cell_type": "code",
   "execution_count": 43,
   "metadata": {
    "collapsed": true
   },
   "outputs": [],
   "source": [
    "writer = tf.summary.FileWriter(\"/tmp/tboard\", graph=s.graph)"
   ]
  },
  {
   "cell_type": "markdown",
   "metadata": {},
   "source": [
    "# How does it work?\n",
    "1. Define placeholders where you'll send inputs\n",
    "2. Make symbolic graph: a recipe for mathematical transformation of those placeholders\n",
    "3. Compute outputs of your graph with particular values for each placeholder\n",
    "  * `output.eval({placeholder:value})`\n",
    "  * `s.run(output, {placeholder:value})`\n",
    "\n",
    "So far there are two main entities: \"placeholder\" and \"transformation\"\n",
    "* Both can be numbers, vectors, matrices, tensors, etc.\n",
    "* Both can be int32/64, floats, booleans (uint8) of various size.\n",
    "\n",
    "* You can define new transformations as an arbitrary operation on placeholders and other transformations\n",
    " * `tf.reduce_sum(tf.arange(N)**2)` are 3 sequential transformations of placeholder `N`\n",
    " * There's a tensorflow symbolic version for every numpy function\n",
    "   * `a+b, a/b, a**b, ...` behave just like in numpy\n",
    "   * `np.mean` -> `tf.reduce_mean`\n",
    "   * `np.arange` -> `tf.range`\n",
    "   * `np.cumsum` -> `tf.cumsum`\n",
    "   * If if you can't find the op you need, see the [docs](https://www.tensorflow.org/api_docs/python).\n",
    "   \n",
    "`tf.contrib` has many high-level features, may be worth a look."
   ]
  },
  {
   "cell_type": "code",
   "execution_count": 44,
   "metadata": {
    "collapsed": true
   },
   "outputs": [],
   "source": [
    "with tf.name_scope(\"Placeholders_examples\"):\n",
    "    # Default placeholder that can be arbitrary float32\n",
    "    # scalar, vertor, matrix, etc.\n",
    "    arbitrary_input = tf.placeholder('float32')\n",
    "\n",
    "    # Input vector of arbitrary length\n",
    "    input_vector = tf.placeholder('float32', shape=(None,))\n",
    "\n",
    "    # Input vector that _must_ have 10 elements and integer type\n",
    "    fixed_vector = tf.placeholder('int32', shape=(10,))\n",
    "\n",
    "    # Matrix of arbitrary n_rows and 15 columns\n",
    "    # (e.g. a minibatch your data table)\n",
    "    input_matrix = tf.placeholder('float32', shape=(None, 15))\n",
    "    \n",
    "    # You can generally use None whenever you don't need a specific shape\n",
    "    input1 = tf.placeholder('float64', shape=(None, 100, None))\n",
    "    input2 = tf.placeholder('int32', shape=(None, None, 3, 224, 224))\n",
    "\n",
    "    # elementwise multiplication\n",
    "    double_the_vector = input_vector*2\n",
    "\n",
    "    # elementwise cosine\n",
    "    elementwise_cosine = tf.cos(input_vector)\n",
    "\n",
    "    # difference between squared vector and vector itself plus one\n",
    "    vector_squares = input_vector**2 - input_vector + 1"
   ]
  },
  {
   "cell_type": "code",
   "execution_count": 45,
   "metadata": {
    "collapsed": true
   },
   "outputs": [],
   "source": [
    "my_vector =  tf.placeholder('float32', shape=(None,), name=\"VECTOR_1\")\n",
    "my_vector2 = tf.placeholder('float32', shape=(None,))\n",
    "my_transformation = my_vector * my_vector2 / (tf.sin(my_vector) + 1)"
   ]
  },
  {
   "cell_type": "code",
   "execution_count": 46,
   "metadata": {},
   "outputs": [
    {
     "name": "stdout",
     "output_type": "stream",
     "text": [
      "Tensor(\"truediv_5:0\", shape=(?,), dtype=float32)\n"
     ]
    }
   ],
   "source": [
    "print(my_transformation)"
   ]
  },
  {
   "cell_type": "code",
   "execution_count": 47,
   "metadata": {},
   "outputs": [
    {
     "name": "stdout",
     "output_type": "stream",
     "text": [
      "[ 0.  1.  2.  3.  4.]\n"
     ]
    },
    {
     "data": {
      "text/plain": [
       "array([ 0.        ,  1.62913239,  2.09501147,  2.62899613,  0.        ], dtype=float32)"
      ]
     },
     "execution_count": 47,
     "metadata": {},
     "output_type": "execute_result"
    }
   ],
   "source": [
    "dummy = np.arange(5).astype('float32')\n",
    "print(dummy)\n",
    "my_transformation.eval({my_vector:dummy, my_vector2:dummy[::-1]})"
   ]
  },
  {
   "cell_type": "code",
   "execution_count": 48,
   "metadata": {
    "collapsed": true
   },
   "outputs": [],
   "source": [
    "writer.add_graph(my_transformation.graph)\n",
    "writer.flush()"
   ]
  },
  {
   "cell_type": "markdown",
   "metadata": {},
   "source": [
    "TensorBoard allows writing scalars, images, audio, histogram. You can read more on tensorboard usage [here](https://www.tensorflow.org/get_started/graph_viz)."
   ]
  },
  {
   "cell_type": "markdown",
   "metadata": {},
   "source": [
    "# Summary\n",
    "* Tensorflow is based on computation graphs\n",
    "* The graphs consist of placehlders and transformations"
   ]
  },
  {
   "cell_type": "markdown",
   "metadata": {},
   "source": [
    "# Mean squared error\n",
    "\n",
    "Your assignment is to implement mean squared error in tensorflow."
   ]
  },
  {
   "cell_type": "code",
   "execution_count": 49,
   "metadata": {
    "collapsed": true
   },
   "outputs": [],
   "source": [
    "with tf.name_scope(\"MSE\"):\n",
    "    y_true = tf.placeholder(\"float32\", shape=(None,), name=\"y_true\")\n",
    "    y_predicted = tf.placeholder(\"float32\", shape=(None,), name=\"y_predicted\")\n",
    "    # Your code goes here\n",
    "    # You want to use tf.reduce_mean\n",
    "    mse = tf.reduce_mean((y_predicted - y_true) ** 2)\n",
    "def compute_mse(vector1, vector2):\n",
    "    return mse.eval({y_true: vector1, y_predicted: vector2})"
   ]
  },
  {
   "cell_type": "code",
   "execution_count": 50,
   "metadata": {
    "collapsed": true
   },
   "outputs": [],
   "source": [
    "writer.add_graph(mse.graph)\n",
    "writer.flush()"
   ]
  },
  {
   "cell_type": "markdown",
   "metadata": {},
   "source": [
    "Tests and result submission. Please use the credentials obtained from the Coursera assignment page."
   ]
  },
  {
   "cell_type": "code",
   "execution_count": 51,
   "metadata": {
    "collapsed": true
   },
   "outputs": [],
   "source": [
    "import submit"
   ]
  },
  {
   "cell_type": "code",
   "execution_count": 52,
   "metadata": {},
   "outputs": [
    {
     "name": "stdout",
     "output_type": "stream",
     "text": [
      "Submitted to Coursera platform. See results on assignment page!\n"
     ]
    }
   ],
   "source": [
    "submit.submit_mse(compute_mse, \"nishanthniv@gmail.com\", \"4V8oTaXM0skEeueX\")"
   ]
  },
  {
   "cell_type": "markdown",
   "metadata": {},
   "source": [
    "# Variables\n",
    "\n",
    "The inputs and transformations have no value outside function call. This isn't too comfortable if you want your model to have parameters (e.g. network weights) that are always present, but can change their value over time.\n",
    "\n",
    "Tensorflow solves this with `tf.Variable` objects.\n",
    "* You can assign variable a value at any time in your graph\n",
    "* Unlike placeholders, there's no need to explicitly pass values to variables when `s.run(...)`-ing\n",
    "* You can use variables the same way you use transformations \n",
    " "
   ]
  },
  {
   "cell_type": "code",
   "execution_count": 53,
   "metadata": {
    "collapsed": true
   },
   "outputs": [],
   "source": [
    "# Creating a shared variable\n",
    "shared_vector_1 = tf.Variable(initial_value=np.ones(5),\n",
    "                              name=\"example_variable\")"
   ]
  },
  {
   "cell_type": "code",
   "execution_count": 54,
   "metadata": {},
   "outputs": [
    {
     "name": "stdout",
     "output_type": "stream",
     "text": [
      "Initial value [ 1.  1.  1.  1.  1.]\n"
     ]
    }
   ],
   "source": [
    "# Initialize variable(s) with initial values\n",
    "s.run(tf.global_variables_initializer())\n",
    "\n",
    "# Evaluating shared variable (outside symbolicd graph)\n",
    "print(\"Initial value\", s.run(shared_vector_1))\n",
    "\n",
    "# Within symbolic graph you use them just\n",
    "# as any other inout or transformation, not \"get value\" needed"
   ]
  },
  {
   "cell_type": "code",
   "execution_count": 55,
   "metadata": {},
   "outputs": [
    {
     "name": "stdout",
     "output_type": "stream",
     "text": [
      "New value [ 0.  1.  2.  3.  4.]\n"
     ]
    }
   ],
   "source": [
    "# Setting a new value\n",
    "s.run(shared_vector_1.assign(np.arange(5)))\n",
    "\n",
    "# Getting that new value\n",
    "print(\"New value\", s.run(shared_vector_1))"
   ]
  },
  {
   "cell_type": "markdown",
   "metadata": {},
   "source": [
    "# tf.gradients - why graphs matter\n",
    "* Tensorflow can compute derivatives and gradients automatically using the computation graph\n",
    "* True to its name it can manage matrix derivatives\n",
    "* Gradients are computed as a product of elementary derivatives via the chain rule:\n",
    "\n",
    "$$ {\\partial f(g(x)) \\over \\partial x} = {\\partial f(g(x)) \\over \\partial g(x)}\\cdot {\\partial g(x) \\over \\partial x} $$\n",
    "\n",
    "It can get you the derivative of any graph as long as it knows how to differentiate elementary operations"
   ]
  },
  {
   "cell_type": "code",
   "execution_count": 56,
   "metadata": {
    "collapsed": true
   },
   "outputs": [],
   "source": [
    "my_scalar = tf.placeholder('float32')\n",
    "\n",
    "scalar_squared = my_scalar**2\n",
    "\n",
    "# A derivative of scalar_squared by my_scalar\n",
    "derivative = tf.gradients(scalar_squared, [my_scalar, ])"
   ]
  },
  {
   "cell_type": "code",
   "execution_count": 57,
   "metadata": {},
   "outputs": [
    {
     "data": {
      "text/plain": [
       "[<tf.Tensor 'gradients_4/pow_13_grad/Reshape:0' shape=<unknown> dtype=float32>]"
      ]
     },
     "execution_count": 57,
     "metadata": {},
     "output_type": "execute_result"
    }
   ],
   "source": [
    "derivative"
   ]
  },
  {
   "cell_type": "code",
   "execution_count": 58,
   "metadata": {},
   "outputs": [
    {
     "data": {
      "image/png": "[encoded data removed]",
      "text/plain": [
       "<matplotlib.figure.Figure at 0x7faa94395cf8>"
      ]
     },
     "metadata": {},
     "output_type": "display_data"
    }
   ],
   "source": [
    "import matplotlib.pyplot as plt\n",
    "%matplotlib inline\n",
    "\n",
    "x = np.linspace(-3, 3)\n",
    "x_squared, x_squared_der = s.run([scalar_squared, derivative[0]],\n",
    "                                 {my_scalar:x})\n",
    "\n",
    "plt.plot(x, x_squared,label=\"$x^2$\")\n",
    "plt.plot(x, x_squared_der, label=r\"$\\frac{dx^2}{dx}$\")\n",
    "plt.legend();"
   ]
  },
  {
   "cell_type": "markdown",
   "metadata": {},
   "source": [
    "# Why that rocks"
   ]
  },
  {
   "cell_type": "code",
   "execution_count": 59,
   "metadata": {
    "collapsed": true
   },
   "outputs": [],
   "source": [
    "my_vector = tf.placeholder('float32', [None])\n",
    "# Compute the gradient of the next weird function over my_scalar and my_vector\n",
    "# Warning! Trying to understand the meaning of that function may result in permanent brain damage\n",
    "weird_psychotic_function = tf.reduce_mean(\n",
    "    (my_vector+my_scalar)**(1+tf.nn.moments(my_vector,[0])[1]) + \n",
    "    1./ tf.atan(my_scalar))/(my_scalar**2 + 1) + 0.01*tf.sin(\n",
    "    2*my_scalar**1.5)*(tf.reduce_sum(my_vector)* my_scalar**2\n",
    "                      )*tf.exp((my_scalar-4)**2)/(\n",
    "    1+tf.exp((my_scalar-4)**2))*(1.-(tf.exp(-(my_scalar-4)**2)\n",
    "                                    )/(1+tf.exp(-(my_scalar-4)**2)))**2\n",
    "\n",
    "der_by_scalar = tf.gradients(weird_psychotic_function, my_scalar)\n",
    "der_by_vector = tf.gradients(weird_psychotic_function, my_vector)"
   ]
  },
  {
   "cell_type": "code",
   "execution_count": 60,
   "metadata": {},
   "outputs": [
    {
     "data": {
      "image/png": "[encoded data removed]",
      "text/plain": [
       "<matplotlib.figure.Figure at 0x7faa8d2651d0>"
      ]
     },
     "metadata": {},
     "output_type": "display_data"
    }
   ],
   "source": [
    "# Plotting the derivative\n",
    "scalar_space = np.linspace(1, 7, 100)\n",
    "\n",
    "y = [s.run(weird_psychotic_function, {my_scalar:x, my_vector:[1, 2, 3]})\n",
    "     for x in scalar_space]\n",
    "\n",
    "plt.plot(scalar_space, y, label='function')\n",
    "\n",
    "y_der_by_scalar = [s.run(der_by_scalar,\n",
    "                         {my_scalar:x, my_vector:[1, 2, 3]})\n",
    "                   for x in scalar_space]\n",
    "\n",
    "plt.plot(scalar_space, y_der_by_scalar, label='derivative')\n",
    "plt.grid()\n",
    "plt.legend();"
   ]
  },
  {
   "cell_type": "markdown",
   "metadata": {},
   "source": [
    "# Almost done - optimizers\n",
    "\n",
    "While you can perform gradient descent by hand with automatic grads from above, tensorflow also has some optimization methods implemented for you. Recall momentum & rmsprop?"
   ]
  },
  {
   "cell_type": "code",
   "execution_count": 61,
   "metadata": {
    "collapsed": true
   },
   "outputs": [],
   "source": [
    "y_guess = tf.Variable(np.zeros(2, dtype='float32'))\n",
    "y_true = tf.range(1, 3, dtype='float32')\n",
    "loss = tf.reduce_mean((y_guess - y_true + tf.random_normal([2]))**2) \n",
    "#loss = tf.reduce_mean((y_guess - y_true)**2) \n",
    "optimizer = tf.train.MomentumOptimizer(0.01, 0.5).minimize(\n",
    "    loss, var_list=y_guess)"
   ]
  },
  {
   "cell_type": "code",
   "execution_count": 62,
   "metadata": {},
   "outputs": [
    {
     "data": {
      "image/png": "[encoded data removed]",
      "text/plain": [
       "<matplotlib.figure.Figure at 0x7faa5b4d0cf8>"
      ]
     },
     "metadata": {},
     "output_type": "display_data"
    }
   ],
   "source": [
    "from matplotlib import animation, rc\n",
    "import matplotlib_utils\n",
    "from IPython.display import HTML\n",
    "\n",
    "fig, ax = plt.subplots()\n",
    "y_true_value = s.run(y_true)\n",
    "level_x = np.arange(0, 2, 0.02)\n",
    "level_y = np.arange(0, 3, 0.02)\n",
    "X, Y = np.meshgrid(level_x, level_y)\n",
    "Z = (X - y_true_value[0])**2 + (Y - y_true_value[1])**2\n",
    "ax.set_xlim(-0.02, 2)\n",
    "ax.set_ylim(-0.02, 3)\n",
    "s.run(tf.global_variables_initializer())\n",
    "ax.scatter(*s.run(y_true), c='red')\n",
    "contour = ax.contour(X, Y, Z, 10)\n",
    "ax.clabel(contour, inline=1, fontsize=10)\n",
    "line, = ax.plot([], [], lw=2)\n",
    "\n",
    "def init():\n",
    "    line.set_data([], [])\n",
    "    return (line,)\n",
    "\n",
    "guesses = [s.run(y_guess)]\n",
    "\n",
    "def animate(i):\n",
    "    s.run(optimizer)\n",
    "    guesses.append(s.run(y_guess))\n",
    "    line.set_data(*zip(*guesses))\n",
    "    return (line,)\n",
    "\n",
    "anim = animation.FuncAnimation(fig, animate, init_func=init,\n",
    "                               frames=400, interval=20, blit=True)"
   ]
  },
  {
   "cell_type": "code",
   "execution_count": 63,
   "metadata": {},
   "outputs": [
    {
     "data": {
      "text/html": [
       "<img src=\"data:image/jpeg;base64,/9j/4AAQSkZJRgABAQAAAQABAAD/2wBDAAIBAQEBAQIBAQECAgICAgQDAgICAgUEBAMEBgUGBgYFBgYGBwkIBgcJBwYGCAsICQoKCgoKBggLDAsKDAkKCgr/2wBDAQICAgICAgUDAwUKBwYHCgoKCgoKCgoKCgoKCgoKCgoKCgoKCgoKCgoKCgoKCgoKCgoKCgoKCgoKCgoKCgoKCgr/wAARCAEgAbADASIAAhEBAxEB/8QAHwAAAQUBAQEBAQEAAAAAAAAAAAECAwQFBgcICQoL/8QAtRAAAgEDAwIEAwUFBAQAAAF9AQIDAAQRBRIhMUEGE1FhByJxFDKBkaEII0KxwRVS0fAkM2JyggkKFhcYGRolJicoKSo0NTY3ODk6Q0RFRkdISUpTVFVWV1hZWmNkZWZnaGlqc3R1dnd4eXqDhIWGh4iJipKTlJWWl5iZmqKjpKWmp6ipqrKztLW2t7i5usLDxMXGx8jJytLT1NXW19jZ2uHi4%2BTl5ufo6erx8vP09fb3%2BPn6/8QAHwEAAwEBAQEBAQEBAQAAAAAAAAECAwQFBgcICQoL/8QAtREAAgECBAQDBAcFBAQAAQJ3AAECAxEEBSExBhJBUQdhcRMiMoEIFEKRobHBCSMzUvAVYnLRChYkNOEl8RcYGRomJygpKjU2Nzg5OkNERUZHSElKU1RVVldYWVpjZGVmZ2hpanN0dXZ3eHl6goOEhYaHiImKkpOUlZaXmJmaoqOkpaanqKmqsrO0tba3uLm6wsPExcbHyMnK0tPU1dbX2Nna4uPk5ebn6Onq8vP09fb3%2BPn6/9oADAMBAAIRAxEAPwD9/KKKKACiiigAooooAKKKKACiiigAooooAKKKKACiiigAooooAKKKKACiiigAooooAKKKKACiiigAooooAKKKKACiiigAooooAKKKKACiiigAooooAKKKKACiiigAooooAKKKKACiiigAooooAKKKKACiiigAorj/AAR%2B0J8A/iZ431n4Z/Dj44eD/EHiTw5JJH4h8P6J4ltbu%2B0t0kMTrcQRSNJAVkBQh1GGG088VZtfjb8Gb74p3PwLsvi54Ym8b2dgL288HRa/btqsFqQpE72gfzljIdPnK7fmXnkUAdPRRRQAUUUUAFFFFABRRRQAUUUUAFFFFABRRRQAUUUUAFFFFABRRRQAUUUUAFFFFABRRRQAUUUUAFFFFABRRRQAUUUUAFFFFABRRRQAUUUUAFFFFABRRRQAUUUUAFFFFABRRRQAUUUUAfIz%2BIrvxH/wUT0j40aVp3xZ1nw/4Z8I6/pWr2XiP4WX%2Bn6b4Ukmn0yMNpUo06CbVWu5bUtJiS%2BRUQyxvbxjbLy/g74f/EGL9qTw98N5fhR4oh17Qf2nfEnj3WvGcvhq6TSpvDt5oWp29tImpmP7NPIVvbDT/sqyGZPszMYxHCr19w0UAeIftr%2BO/wBp34WeFtF8bfAPx94D022ufF/hzw/qFj4v8B3uqyO%2Bq67Y6X9ojlttVsxGIkvDJ5ZR95jA3oDkWf8AhB/%2BChf/AEdB8Gf/AAw%2Brf8AzUUft4f8kQ0P/ss3w4/9TXRK9moA8Z/4Qf8A4KF/9HQfBn/ww%2Brf/NRVbWdA/bz8OaRdeIPEP7W3wQsLCyt3nvb29%2BB2qRQ28SAs0ju3ikKigAkkkAAZrtvhz8ddL%2BIPxC8S/DO58F65oGp%2BHTHIkWuxQx/2nZvJNEt5biOVy0JlglTLBW4UlQHUnwnxj4Y%2BMnh7SfE/w8%2BNujX%2BsaZ8RPFEvhqz8ZS%2BM3nuFS8eQ2EkOlRwrDawQsyQuY2EpCNOwKqSOulhHOfLN2emnVp9tbOyu/6dsZ1Uo3Svv/X3lHxB8b/27NYt/Cy/AD9pj4A%2BOLnxXqV3bWWPhRqtnboLWBp58y/8JHKfNCqAsRUFtwJKoC47H4Paz%2B3j8Zfh1p3xD0P9pT4RWkd4JYrqwvPgJqyz2V1DK8FxbSj/AISjiSKaOSNscbkOOKzfC3wc%2BK/xk%2BI914s8Z%2BCNU8Aatplhpl2de32sscviW1M0TXVtHHI3m272k8sT7wm%2BO5ZPvLlPb/gn8K5vhL4RuNG1LxGNX1PUtYvNV1nU0sVtUuLu5lMkjJCpYRoMgBdzHC5LMSSdcTTwtKlyxfvffvfqtNrbWflrpNKVWUrvb%2BvmeEeBx/wWR8RfFHWNF8XeKPgJ4e8H2FxPDpniCf4dapc32qbWxHMlnF4gKRRuAW/eThxkZTOcegf8IP8A8FC/%2BjoPgz/4YfVv/mor2aiuKclN3UUvS/6tm0U0tXc8Z/4Qf/goX/0dB8Gf/DD6t/8ANRR/wg//AAUL/wCjoPgz/wCGH1b/AOaivZqw/iF8T/ht8JPDsni/4qfEDRPDWlQ/63Ute1SGzgXjODJKyrn8amMZSdoq7K3PNf8AhB/%2BChf/AEdB8Gf/AAw%2Brf8AzUUf8IP/AMFC/wDo6D4M/wDhh9W/%2BaiuQn/4Kh/BjxncPpn7Lfwu%2BInxlulcx/afAPhOX%2BzEkzgB9SvDBaBf9pZH78HFNHiv/gqv8XOfD3wo%2BFXwe0%2BX5Wl8V65ceJtVjH98QWQgtVb2M7jPr1rs/s/ER/i2h/iaT%2B7WX/kpfJLrodj/AMIP/wAFC/8Ao6D4M/8Ahh9W/wDmorK8XH9tXwBpZ1vx5%2B2j8BNEsl%2B9eav8F9Stoh/wOTxUB%2BtYn/DB3xr%2BIH779or/AIKJfFfXc8PpvgZ7TwnYsvdStjGbgj63BODyTWt4R/4JZ/sB%2BE9UGv3H7NOh%2BItT6vqnjiWfX7h267i%2BoyTHOeeMY7Yo9lgYfHVcv8Mf1k1%2BQWgup4x4q/4KMP4T1I6Kf%2BCo37O2tXwyBZeD/gRrmuzE%2BgTTvEs5J7YxWb/w3d%2B3rr//ACSnwjrXi1H/AOPe8tP2O9a022l9CJdT8W2w2%2B/P0r7m8K%2BCvBvgTTRovgjwlpmjWa/dtNKsI7eIf8BjUD9K06Pa4CPw0pP1lb8Ix/ULw7HwPH8av%2BDgjxA4bwj%2BzN8I7OBz8k3jHRfsJx6lLTxNeMv0IzXffCy1/wCC7ev%2BI7T/AIW94p/ZT8N6I%2B77ZLo/hPxHqd9F8jbdsTalBE3z7QcyjAJPJAB%2BuqKieIpSjaNKK/8AAm/xl%2BgnJdjxn/hB/wDgoX/0dB8Gf/DD6t/81FH/AAg//BQv/o6D4M/%2BGH1b/wCaivZqK5STxn/hB/8AgoX/ANHQfBn/AMMPq3/zUUf8IP8A8FC/%2BjoPgz/4YfVv/mor2aigDxn/AIQf/goX/wBHQfBn/wAMPq3/AM1FH/CD/wDBQv8A6Og%2BDP8A4YfVv/mor2aigDxn/hB/%2BChf/R0HwZ/8MPq3/wA1FH/CD/8ABQvt%2B1B8Gf8Aww%2Brf/NRXs1FAHxJ4k1P/g4i8P7pdK0j9kfX0H3E0%2Bw8RW8jD3E96qg/8CNYI/aJ/wCC63hg%2Bd8Sv2XvBot1/wBZP4J8CQ6wf%2BAxyeMLaRv%2B%2BRX3zRXZHE0bWlRi/wDwJflJ/kVzLsfK/wCz98Sv%2BChPx%2B0zUr9/GnhvwRNpk8cU1j8Qf2YtX06WYspO6EjxY6TKMYLIxAJA71pfEvxF/wAFBvh74t8EeC7f9oL4M6he%2BNvEj6Xbr/wpTVYRaxRWNzeTXJ/4qZt4VLbbs%2BXLSKNwr6Wrzbx/%2BzPoHjv4y6D8dU%2BI/jDSdb8O288NhbafrKyaeVmiaKQtZ3EcsIYqeXRVf5R83XMU5Yd13Jq0bOy1lrZ27PfW/QFy3PBf2g/jh/wUO%2BCWpXmmaH8V/hH4kfQPDMniXxhJD8GdStk0nR42kDT5fxOTNKfJmKQqAWELfMOM60Hxz/aoufinb/CGL9rP4VnUrm7SyS7/AOGbde%2BwrfvaC8Wxa6/4SXyluTbETeUWB2%2B4xXb/ABj/AGSvHXxJ8U31xpHxXtLTR/Fvh6w0bx8l1ope9u7e1mkk3WsiSpHCZlkeGRWjZQrFkw2c8PqP7PH7SK6v4g8LaD4b06z0/TfFeu%2BL9B8S/wBqKf7Sv5bcppVsIBmSLySyrK78MLddmRIQnXTo4GpSScrO3e333XR9F038qSg0dT4Q179rv4gavqvh/wACftzfs%2Ba1qGhXAg1ux0r4O6hcTafISQEnRPFZaIkq2AwGcH0rf/4Qf/goX/0dB8Gf/DD6t/8ANRXF/sZeCtWfxvoXiLRPBHiDw54Z8GfCDTvCaQeJdBm0271HUzMJrl3imVXkEIiTE2NjyXc5RnBLH0f4l/ttfsqfBj4q2/wW%2BMHxs0fwr4gu7OO5s4vEbPZW1wjlgoS7mVbdnypygk3jIyBuGeethJKu6dFOVlfRXfntfyfW1yXHWyMz/hB/%2BChf/R0HwZ/8MPq3/wA1FH/CD/8ABQv/AKOg%2BDP/AIYfVv8A5qK9f0vVdM1zTodX0XUoLy0uYxJb3VrMskcqHoyspIYH1FT1x7EnjP8Awg//AAUL/wCjoPgz/wCGH1b/AOaivP8AwGP%2BCyGo/FLVfB/xL8UfATSfDkFvLNo3i/R/h1ql9HeYlVUhltpPEEMsEpRi5wHjGxhvPy5%2BpqKuM1FNOKd/XTzWv53Jaba1Pmf48eIv%2BCh/wV%2BHFx41sPjv8F9d1F7q3sdG0I/BrV7RtRvriVYbeBZB4jl2lpHUE7DhdzHhTV/4ieI/2wPhBo9pr3xY/ba%2BAnh2zvb2Ozgu9W%2BCmqQwtcPnam9/FIAzg8nA47V6B8VvgFqvxB%2BJ3hf4raX8TdStJfCt2bq28M30Edzo93N9nuIVmki2rKkyi5YrIkgA2qSjEDHC/tNQ/EnxB4m8NL4X%2BFfixvF2g3kEnhzWNKeCbQLk3Pl29/HeCQsUiSCSfJliRyozCxc7R10aVCqoQv3bezXZa6WVt9d3poZTnUhzO3a39I2bTwl/wUAv7WK/sP2qvgrPBPGskM0PwK1VkkQjIZSPFOCCDkEVJ/wg/wDwUL/6Og%2BDP/hh9W/%2BaivNdS%2BMuueHtf0z4uRfEy50Hw1a%2BK9StLHwjZ20MenQeGNKW4TULuaLZv377d3VwRtCRqnDkN7F8G/j74n%2BIXjWbwN47%2BFzeFr2Xw3a6/pVrLq4uZ3sppHj23MYjX7NOrpgx5cfNw5KsqzVwVWnHmWq/L/O11e2g4V4SdjjNS8Y/tm/CX40/Crw18Ufi38MPEvh/wAeeNbvQdTtNA%2BF2o6ReW4j8P6vqcc0VxNrl2gPm6dGjK0JysjYKkA19A14z%2B1B/wAlv/Zx/wCyzX3/AKhXiivZq4zYKKKKACiiigAooooAKKKKACiiigDxn9vD/kiGh/8AZZvhx/6muiV0/gH9pT4cfFD4t%2BIvhB4Dg1jUbnwoGj17Wo9HlXS7a8V1VrEXTAJJcru3MibtoByQRiuY/bw/5Ihof/ZZvhx/6muiV7KiJGCI0CgkkgDHJ5Jq4umovmV301tb/P00Jak2rM8u%2BLvwe%2BKHi/41eDviZ8MfGOkeHP7Ds72013Ubqwe8ub%2BynMTGzSHckajfEsgmdm2OgxGwZs9XafB34fJ4nsPHus%2BHrbV/EemWrW9l4i1W2jlvIUZmLBH2gR53EHYFyMA8AV09FW69VxUb2sraaaeb3e//AABKnFNvuFVtY1nSPD2lXOva/qttY2NnA015e3k6xRQRqMs7uxAVQASSTgAVT8bjxq3hHUV%2BHEulprptWGlPrUUj2izY%2BUyrGyuyDuFZSemR1rxI634q/ae/ZI8b/C/4i32k6V430d7vw94oxGYLAalAUeGULIzMltcxtbTKCzER3O3cWXNOlR9ouZvS6T7q/W3b9TRK50PxC/a50a2t/C6/s/aJp3xJufFUeoXGm/2P4khjtpYLKBZpglwFkR52EkYjh%2BXduLFkVGYeLeI/2k/G2seIvHnx48DfE3XI38H2eka/o3gW/mt4dP1fwsSseoRLGU3C/W5ttShLl2MU0duufLlUHV8I/Br4i/Gf40%2BIfGll4M1/4Z3UA0vV5dQ1PTY2iTxVbyPb3Eluqybby2ubGOGOZl2hl2bX3l9nr/gL9kj4Z6b4G0zw78X/AA5oHjjU7DXb3WhqeqeG4hFDfXVzJcubaGQym3iV5SI497lAifMSoNelfA4RWau9L7N66vvHbTRp63NPcid/418PXXjjwNqfhfTfFeqaDNqumy28GtaQUjvLBpEKrPF5qMqyoSGG9CARyp6V4z8Pf%2BCZ37IngzxFH498YeA7r4ieK05bxb8UtVl8QX5bsym7LRwkdvJjjA7CvfaK82nicRRg405OKe9tPxWvyvbyM1KSWgy3t4LSBLW1gSOKNAsccahVVQMAADoBT6KKwEFFFc/8SPiv8Lfg34bk8ZfF34k6B4V0iLPm6p4j1iCxt04zzJMyqPzpqMpOyV2NJydktToKK%2BVbz/gsN%2Byj4lvJdI/Zo8N/Eb4330LlJYvhD4AvNTtUYcfNfyrDYgZ4z5%2BB37UwftEf8FW/iv8Au/hN/wAE/PB3w9tZPmg1f4x/FJJZdnYtY6NDclWxztadT2OOtdX1HEr40o/4mo/g3f8AA6fqWIXxpR/xNL8G7/gfVtFfKY/Z0/4KwfEX/S/iR/wUZ8HeBkk4l0v4VfByGTYO4W61i5ujn38ketL/AMOsh4k/efF//goR%2B0x4saTm5th8UTo1rJ6jydIgtcL/ALJJ%2BtH1fDx%2BKsvkpP8ASKD2FCPxVV8lJ/okfVTukal3YKoGSScACuR8S/tBfAXwYzJ4w%2BN3hDSSn3xqXiW1gK/XfIMV4Kn/AARR/wCCal2wm8Xfs%2BXXimbOZJ/GfjjWtZaRvUi8vJF/IAV13hr/AIJX/wDBNPwkqjRP2BvhAGT7st18PdPuJB/wOWJm/WjlwC%2B1J/8AbsV%2BcmHLgl9qT%2BSX5yZtar/wUO/YB0Jimt/ty/B6zK/eF18TNKjI/wC%2BrgVjzf8ABUv/AIJoQNtf/goJ8Fyf9j4m6W38p67DSv2Nf2QdCULon7Knw2swv3Ra%2BBtPjx/3zCK2If2d/wBn%2B3XZB8DPByD0TwzaD%2BUdF8v7T/8AJP8AIP8AYe0//Jf8jzq2/wCCon/BNS7YJD/wUE%2BCuT0D/FDSl/8AQrgVvaN%2B3p%2Bwz4iYJ4f/AGz/AIT3xb7os/iLpkuf%2B%2BZzXSXX7N/7O96uy9%2BAnguYHqJfC1ow/WOsHWP2HP2KfEKlNf8A2PvhbfBvvC8%2BH%2Bmy5/76hNH/AAn/AN//AMkD/Yf7/wD5Kdn4X%2BK3wu8blV8F/EnQNXLfdGl6xBcZ%2Bnlsa36%2BdPFH/BIn/gl74vDDVv2B/hVFu6nS/BtrYn8DbIhFYB/4Iv8A7BGknz/hr4P8beBrkf6u68DfFnxDphj/AN1Ir7yx/wB8UcmAe05L1in%2BUg5cE9pyXrFP8pH1VRXyp/w7X%2BLPg7/Svgj/AMFR/wBojQrhf9VD4n1/TvE9qvplNTspZG/GWk/4Vb/wWO%2BGf/Im/tY/Bf4oQdfI%2BIPw3vNBuSPT7Rpd1LGD/tfZ8f7NP6tRl8FaPzUo/mmvxD6vRl8NVfNSj%2Baa/E%2BrKK%2BUT%2B2h%2B338Kv8Ak4f/AIJda/qljD8s%2Bu/BXx3p/iFXP95bK7%2BxXQHsFc8dzgVreB/%2BCvP7BfiXxDD4G8efF24%2BGfiWY7T4Z%2BL2gXnhe7V%2BmwHUY4opGyQP3bvycUngcVa8Y8y/utS/Jt/gDweJteMeZf3Wpfk2/wAD6YoqtpGsaR4g0yDW9B1W2vrK5jEltd2c6yxSoejK6khh7g1Zrk2OXYKzfFng3wh4%2B0Kfwt468K6brWmXK4udO1axjuYJR6NHICrfiK0qKabi7oD5r1P/AIJe/A3wrqVx4o/ZU8aeMPglrM8hmkk%2BHGuNDps8nUedpdwJbKRAf4REv1FV28af8FL/ANnH/kffh14Z%2BPfhuD7%2BseCGXQPEiRjlnfT7l2tLlsdFhmiJ7L2P05RXasfWnpWSqL%2B9q/8AwJWl%2BLL5299Txv4E/t6/s0fH/wARv8PNA8ZT6B40gH%2Bm/D/xrp8mka5btjJH2S5CtKB3eLzE/wBqvZK4T48fsxfAD9p3w4nhb48/CjSPEltCd1nLfW%2BLmyf/AJ6W9whWW3f/AG43VvevFn%2BCH7cf7JP%2Bn/syfFR/i/4Og5b4a/FHVNmr28Y/g0/W9uWPQLHeK6gDHmjrR7LCYj%2BFLkl2lt8p/wDySXqFoy20PqSivHP2eP24fgz%2B0D4hufhkU1Twd8QdNi36x8N/Gtl9g1i1UdZEjYlbqHjImgaSMgg5GcV7HXLVo1aE%2BSorP%2BvvXmm15ktNOzPOPHX7K3wb8WeG/GGmaH4K0nQNT8a2jRazrul6TCtxNIWDrLJ8uJT5gV2DcOR82au/CL4O6j4C1zXPH3jbxmfEfirxILWPVdXWw%2ByQrb2yOsFtBAHfyokaWeTBdiXnkJY547qiqeIrOm4OV0/%2BB13totPJGfs4KV7HjH7TrF/jb%2BzkShX/AIvPfjB9vBXijmvZ68Z/ag/5Lf8As4/9lmvv/UK8UV7NWJYUUUUAFFFFABRRRQAUUUUAeD%2BFPjN%2B0Fof7Z9v%2Bzp8QvEHgjxJpes%2BEdV8RLF4V8OXlje%2BFbaC9toLFb6Wa9uI7oXQmuFR1jtSXsZiiSKshiwvhX%2B1P8Xdd/bS8V/A34seJtE8M6Lb%2BJ7nTfAGgX/wn1u0ufE9tFpdvdm4tdenuxp93IrtdlreCBpBHauSAEZx0Xwm/YlvPg58QvG/xG8OftZfE27uvH2uT6rrcGrW3h2cLO7IIljm/sgXHlW8KLbwxPK6RxcBS3z1v337LUHiL45aL8a/Hvxv8a%2BIofC2tXOr%2BEfB2pHTI9J0W%2Bms7iyaeL7NZRXUxW2u7qNBc3EyqJ2IG5UZQDjP%2BChfxc%2BFHhrwf4M%2BFHiP4neHtP8AFPiD4w/D2XQfDV7rUEWoakkfjPRmka3t2cSTBVVixRSAFJOMGvoevGf28P8AkiGh/wDZZvhx/wCprolezUAFcT8ff2h/hD%2BzH8PZviZ8Z/F8OlaakqwWsexpbm/uX4jtraFAXuJnPCxoCx5PQEjH/an/AGpPBn7LXge11zV9Ivde8Ra7fLpvgvwXowD6h4h1Fx8ltAvYD7zyt8kaAs3YHhP2dv2RfGep/EGD9rX9tPVbLxL8UXiYaDpFsS%2Bj%2BBbZ%2BtppyNw05GBLeN%2B8kIwpVOG7KOHgqftq7tDolvJ9l2S6yei2V3oqUVa72PRP2afih8YvjD4JuvHvxb%2BBs3w%2BjvdRZvDWhanqaz6kdO2J5ct9Gi7LWdm3kwB3KKVViGBFJo37LXwo0z40678ftSt9Q1bxJrwgSWTVdQaS1tYoVVYo4bVdsClduRKyNNyQZCOK9GorF1pKcnT91S0sr7dtdenz/AV9dAooorEQUUV4H%2B1B/wAFAfh78BfGlt8Bfhr4M1b4o/F/VbYTaR8L/BpRrtIjgC6v53Pk6ZaZK5nnIyD8iuQRWlKlUrT5YK7/AK1fRLzdkaU6VStLlgrv%2Bt%2By82e9SyxQRNNNIqIilndjgKB1JPYV8w%2BP/wDgqp8FLjxfe/CX9kbwN4l%2BP3jayk8m70n4YWyT6bpsx6LfavKyWNoM5BBlZ1I5SsC0/YK%2BP/7YEi%2BKf%2BCnXxm%2B3aJMwktvgR8Nr%2Bew8M2y9Vj1G6UpdazIMKWDtHb7gcRFTX1L8Pfhx8PvhL4Qsvh/8LfA%2BkeHNC06Ly7DR9D06O0tbdfRIolVV/AV08uEofE%2BeXZaR%2B/d/JJeZvy4Wh8T532Wkfv3fySXmfMq/CH/AIKp/tN/6R8Z/wBofwz8AvDVx97wp8IrJdZ19om6xzazqEfkQyD%2B9bWp9nrovht/wSX/AGGvAviSP4g%2BMfhTN8S/Fy8yeMvi7q8/ifUXfOd6tftJHCfTyUjA7CvpKipljcRblg%2BRdo6fe1q/nITxle1oPlXaOn4rV/NkVlZWWm2cWn6daRW9vCgSGCCMIkagYCqo4AA7CpaKK5DlCiiigAooooAKKKKACiiigAooooAKKKKACsjxx8PvAXxO8OzeEPiV4I0jxDpNwMXGl65psV3by/70cqsrfiK16Kabi7oabTuj5W1n/gkN%2BzT4Z1OfxV%2ByV4t8cfAPXJpDK9x8JPE0llp88nUedpUwlsJUz1XyFyO44Ipv4k/4K0/stjd4r8JeDf2lvC0H%2Bs1DwwE8K%2BLI4%2BpdrSZ30%2B8YD%2BGOW3Zj0XkCvrWiutY2tLSraa/vav8A8C0l%2BLOlYyrLSraa/vav79Jfizwn9nX/AIKOfst/tH%2BLX%2BFWk%2BKdQ8I/EG3TN98MviJpUmieILfgk4tLjBuFwM%2BZA0seP4q92rzr9o79kr9nD9rfwmngv9or4QaP4otIH8ywnvYCl3p8uQRLa3MZWa1kBA%2BeJ0b3rwGb4c/8FBP2BR/afwV8Wap%2B0Z8LLUZuPAfjDUI08aaNAOT/AGfqb7Y9VVRki3u9sxCqqzMTT9lhq/8ACfLLtJ6fKWn3SS9R%2Bzw9f%2BG%2BV9pPT5S/%2BSS9T7DorzL9lz9r/wCA/wC2F4MuPF/wU8WvcTaZc/ZPEfh7VLR7PVtBvBndaX1nKBLbSqQwwww20lSy816bXLOnOlNxmrNdGc04TpycZKzQUUUVBJ5z%2B0Z%2Byj8Dv2p/D1tonxd8ICe702Xz9B8Q6dcNaarotwMFZ7O7iIlgcEA/Kdp2gMGHFeKj42/tJfsAzppH7W9/efEf4So4js/jJp2n/wDE18Px5wq65aQjEsQHH26BccZljUtur6wplxb293bva3UCSxSoUkjkUMrqRggg8EEdq66OLcIeyqrmh2fTzi94v8H1T3KUrKz2KvhvxL4d8Y6BZeK/CWu2eqaXqNslxp%2Bo6fcrNBcwuMrJG6Eq6kEEEEg1dr5I8Y/CT4if8E5NevfjV%2Byv4bvtf%2BEF3cveePvg5YL5kuhhjum1TQkP3ccvLYjCONxj2tgD6a%2BGPxN8A/GbwBpPxT%2BF3im01vw/rlkl1pWqWUm6OeJu47gg5BUgMrAqQCCKWIw6pxVSm%2BaD2fVPtJdH%2BDWqdtiUbarY82/ag/5Lf%2Bzj/wBlmvv/AFCvFFezV4z%2B1B/yW/8AZx/7LNff%2BoV4or2auUkKKKKACiiigAooooAKKKKACiiigDxn9vD/AJIhof8A2Wb4cf8Aqa6JXoXxh%2BLfgP4D/C7XvjH8T9cTTtA8OabLfapduMlY0GdqjqzscKqjlmZVHJFee/t4f8kQ0P8A7LN8OP8A1NdErg/2h7YftXfts%2BDv2S5P3/gz4c2Nv4%2B%2BJUA5ivrzzmj0XTpexXzYp7x42BDC2iz1rpwtGNar7%2BkUm5ei3t5vRLzfkVFXepe/Y4%2BC3jz4i%2BNLj9vT9qPQXtvHXiayMPgrwrd/Mvgbw%2B53RWaKeBeTLtkuZcBizCIbVQg/SlFFTiK8sRU5notklsktkvJfjq3q2KTcmFFFFYCCiivnH/goV%2B0B8UPCGmeE/wBlX9mPUYrb4t/GPUZtL8MalJF5ieG9OhQPqWuyp0ZbWFhsUn555YVw2SK1o0pV6ihHr9yW7b8ktTSlSlWqKC/4ZdW/JLU539oD9qD42/tFfGTVf2I/%2BCf2r21hq2iMsPxY%2BMdzai5sPA6uM/YrWM/JeauyHIiJ8uAENLydo9e/ZT/Y7%2BCH7HXgq48KfCXRLmW/1a5%2B2eKfFuuXRvNZ8R3xyXu7%2B7f57iViWPOFXcQiqvFaX7L/AOzR8Lf2Rvgro/wM%2BEemSxaZpaM9ze3kvm3eqXkh33F9dSnma4mkLO7nqTgYAAHoFbVq8eX2VHSH4yfd/otl5u7Nq1ePL7KlpD8Zeb/RbLzd2FFFFchyhRRRQAUUUUAFFFFABRRXjH7TH7Z3hf4BeI9M%2BFXhTwLrHjv4h69AZtE8EeHVBmaENtNxcSkFbaDII8xgehOCFYjow2FxGMrKlRjeX6LdtuySXVtpLuc%2BKxeHwVF1a0uWP6vZJJNtvokm32PZ6K%2BT/Enij/gqfr/hu78W%2BMNd%2BCnwY8ORRNPe3%2BpXVxqeo6RCBy0kjEWT49SQK%2BRvjl8W/D0Hw/1zUv2gP%2BCoafF1bY3M3hb4f%2BFLWewi1W9%2BWONrye0UGKFUy/k7lUtnZKDnf7%2BA4Zq42fKq0XqlaCnUevS8YqCfrNJK7vbf53MOKqWBhzOhJKzd5uFNWXW0pubXpBtuytd6frSCD0NFfjl/wR5/a48afDb9ri0%2BBNne2w8F%2BPdQn8/SLRpmt7W%2B8gtHcQm4LSgnykibc3zKQTkouP2Nrl4hyKvw/jlh6kuZNKSe109NV0ad19x18OcQUOI8A8RTjytNxkt7Na6PqmmmtF1XQKKKK8I98KKKKACiiigAooooAKKKKAPnj9rD9gvTvi/4yg/aV/Z38bP8Mvjhott5ej%2BPtLtw0WqwrgjTtXthhdQsm2gbX/eRYDRspGDb/Y0/bQv/AI76rrnwE%2BPPgZPAfxq8DxRnxn4Ja5MkFzbsdsWraZK2DdafMR8rj5omPlyAMAW98r55/b6/ZR8W/GXQNH%2BPv7Od7b6N8bvhhJJqXw61uT5Y78Ef6Rot4cjzLK8QGJwSNjlJFIKHPbSqxrxVGs/8Mv5fJ/3e6%2BzuuqfZSqxrRVKq/SX8vk/7vl03XVP6Gorzb9kT9pjwj%2B19%2Bzx4b%2BP3g/T7jT01q1ZdT0W9GLnSNQhdobuxnBAIlgnjkibIGdmRwRXpNck4TpzcJKzWjOWcJU5uMlZrQKKKKkkK%2BR/Fdh/w7W%2BPq/E3w8v2f4EfE7X44PGWlrxb%2BCfENy4SLVIh0isrqQrHOvCxyskgIDMtfXFYPxQ%2BGngz4yfDnXPhR8RdFj1HQvEWlzafqtlKOJYJUKMAf4WwchhyCARyBXVha6ozcZq8JaSXl3Xmt0%2B%2BmzZUXZ67Hm/7UH/Jbv2cf%2ByzX3/qFeKK9mr5fn%2BGnj74N2v7Jfwp%2BJnxGHi3V/D3xUvbCTxEbQwvewxeDPFSwNIpZiZRCI1d8/O6s2BuwPqCsKkYwm4xd0nv38/mJ6MKKKKgQUUUUAFFFFABRRRQByHgX9oP4B/FDxlrPw6%2BGnxv8IeIvEPh12TxBoWheJbW7vNMZXMbLcQRSM8JDgqQ4GGBHWrFr8bfgzffFO5%2BBdl8XPDE3jezsBe3ng6LX7dtVgtSFIne0D%2BcsZDp85Xb8y88ivmv4a/FfTPix%2B2/q3xT8WfCT4i%2BEtJ%2BFmk614X8C6bcfBrxDD/bX2q8szqOrNdCw%2BzvBJLaQJawRSMzxrNcuDvjEPM%2BDvh/8QYv2pPD3w3l%2BFHiiHXtB/ad8SePda8Zy%2BGrpNKm8O3mhanb20iamY/s08hW9sNP%2ByrIZk%2BzMxjEcKvQB73%2B3h/yRDQ/%2ByzfDj/1NdErkP8AgndF/wAJt4h%2BOf7RV%2BPNu/GXxp1WwtLr%2B9pmjhNKtUH%2ByDbTuPeU1e/4KF6b8V5/B/gzUfDnjTw9a%2BFofjD8PRr2jXvhie41C8c%2BM9G8tre8W9jjtgrbSwe2mLAEApkEV/8AgljNHF%2By/qPh17ZIbzRfil4ysNSiQsdtwniC%2BZs7iTuIdWPPfgAYFdtHTA1murgvleT/ADSLXwP5H0fRRRXEQFFFFABXyX%2ByLZt8df8Agol%2B0P8AtTaywuLbwRfaf8KfBG8c2cNpbQ6jqxX/AK63t7EpbqRaKM8YH1pXyp/wS3ZbDUP2kvCl38t/p37UviqW7jbhtl0lneQOR6GGePB/2fauzD%2B7hq0lvaK%2BTlr%2BSR1UPdw9WS3sl8nLX8kj6rooorjOUKKKKACiiigAooooAKKKKACvCfjt/wAE5v2Yf2iPiq/xq%2BIGh6xF4kbTorQalo2vT2bKIydsg8ph8%2B07MnI244yAa9j8bWniC/8ABmr2PhLWE07VZtMuI9M1CRAy2twY2EcpDAghXIbBBBx0NflH%2ByJ/wWs%2BMnwW8U%2BIfDP7aV1rvjCySHy9PjsdNs472wvY5NroxBhDRspbduLENGu0AFq%2BlyDK85xlOtictnadNJOKdpNS7dGtNU30Pl%2BIs2yPA1aOGzSF4VG2pNXhFx79U9dGl1%2B76E%2BKX/BJnxf4H0zXLj9nP4m3Pi7SfEUezxT8N/inq1xLY6rEs8c8QiurYxSwSxtEoSQkt0zIF3Bvjn4vfD/4B/sy3uueOJ/AutfDf4kafLEdO%2BEHj/wdbeJ9F1KB2jST7LeXCujxDEj%2Be53gAohZuT9W3n/BTr/goL8Z/DcnxB/Zg/YZtNP8KIG8vxD41vyYp0zlZld5LSNV2kZw0ig5G84r5X/4KG%2BNvj5%2B158Pvhd8Pm%2BKmgfEf4laTq%2Bs3fiLR/hjocl6%2Bm2d0tmbe2Wa1jaG4aMwzK5jYgkxjMmzzW%2Brw%2BO4jyui54um6%2BqUoUpw9pq0v3n/AC6UUvjlNwlGO0m1Y8DB5HwnxNmkMJQxUMFFxnJVsRCp7CPLGUvcsnWlObVqcKUZxnUlFOKUuY%2BgP2cv%2BCvf7OGieFrjxf4s/YYbR9T8Nwwrruu/DzRdPmgh3kQibLGFoVkkYqF3MBuUb23V6Baf8F6P2fD4gF1qnwq1%2B38KzXLW9prUeq2Mt8XUHLyacsvmxR%2BjljnPTPFfC37H37CP/DRvjjSPgFrjT6T4omgv9X8T3fnGeTQtPhiWO0tZY0GyG5muHYyrIWZE8gAI/mI/0N/wTW%2BCv7LXw%2B/aIj/Zg%2BPv7J/ijVPi7FZXTa5eeKLS21DRdORAXWSKJTsEMkXlbZ5Fc%2BZIqq4EgrpxeX8H1sNPFwp1JvlU%2BVSkmoO/vfvGmo3Ts7P3eV8lpxPNjieN8tzNZbWq0ocs3Tc7QlFzjb3b0uaMpWaTSlpJTj7RunM%2B3v2Nf2/Pg9%2B3CNff4TeGPFNinh6WJLqbX9Ljijl8zdt8t4pZFJ%2BUkqSGAwcYr3GqHhnwr4Y8F6LD4b8HeHLDSdOtgRb2GmWaQQRAnOFRAFX8BV%2Bvy/GTwlTEylhoOEOicuZr1dl%2BWh%2Bn4KnjKeGjHFTU6nVqPKn6K7tbbfXcKKKK5jqCiiigAooooAKKKKACiiigD5N/ZgtV%2BAH/AAUy%2BOv7NenjytA%2BIGhaV8VvD1lH/q7a8uJJdN1jHvJcWtrOR/euGP8AFX1lXypOy6p/wW9tPsJ3f2J%2ByvcrqZX%2BE3viS3NuG9yLG5IH1r6rrsxms4Se7hFv1s1%2BSR1YvWUJPdxi39zX5JBRRRXGcoUUUUAeM/tQf8lv/Zx/7LNff%2BoV4or2avGf2oP%2BS3/s4/8AZZr7/wBQrxRXs1ABRRRQAUUUUAFFFFABRRRQAUUUUAeM/t4f8kQ0P/ss3w4/9TXRK4z9k6YfBv8AbP8Ajt%2BzJqP7qHX9YtviX4TD9bm11GJLbUNvtHf2rEj/AKelP8Vdn%2B3h/wAkQ0P/ALLN8OP/AFNdErl/2/fAnjTwkfCn7b3wb0GfUvFfwhuZ7jVdFs1/e6/4auFVdTsFH8coREuYQc4ltwACXrtwTU5SoSdudWX%2BJO8fx0/7eLhrp3Po6isT4bfEbwX8XvAGj/FH4c%2BIINV0LX9OivtK1C2bKTwSKGVvUHBwQeQQQQCCK2645RlGTi1ZojYKKKKQBXyLfX4/Y/8A%2BCqcur6032fwR%2B0/otpaQ30nEVn410iBo44GPCob3TQoTPLyaftGSwr66rzb9rP9mHwF%2B1/8DNX%2BCHj65urJLwxXWja7psnl3uh6lA4ltNQtZBzHPDKqupB5wVOVZgenDVYU5uM/hkrP/P5NJ/eup0YepCE3GfwyVn/n8mk/v7npNFfNP7E37XPjvX/FN9%2Bxf%2B2LBa6N8cvBtkJLpok8qy8baWp2R69pmcB45MDzoV%2Ba3l3IyqNtfS1Z1qM6FTll/wABro13T/rW6WdWlOjPll/wGujXk/66oKKKKyMwooooAKKKKACvkb4of8Fov2T/AIO/FzxD8GvHnhTx5aal4b1SWxvLn%2BwYTBK6HBaPNwJCh6qxQblIYcEGvrms/V/CfhXxA%2B/XvDOn3rYxm7sklP8A48DXfgKuXUqknjKUqkWtOWfI0%2B/wyvp0PPzCjmVanFYKrGnJPXmhzpq23xRtrrf5HxdF/wAFTvh9%2B198OfE/wt%2BFn7IfxD8bXOtyXOjW%2Bi28a29reWckQVpbm9RttkCrkEZYrlTn5sjyj4B/8EKPie93p3jf4r/HyfwdJp2rPfaP4Z8OL9vm00FlZD9rdkjWUFVDFYnVtgO7nA948J%2BE/Dfgn/grJceHP2bXm0ywufBdzrHxo0y0mZtOlvJmxZt5X3YbtmZZSRgtGzEAbpC32BX02KzqeRwVLKo%2ByhWjGb5nzy1TVnzLlWidmleUWndJ2PlsJkdPPputm8vazoylBcqUI6NO65XzPVq6btGSas2rnzNpn/BKn9njV9Ri1z49eMvHvxVvoX3xSeP/ABhcXEUTf7MURjXb/stuFeu61%2Bzt8OF%2BCXiD4G/DTQrPwVp2u6Jdaes3hexjtGtTNC0YmQRBcuu7dk9SOTya7yivma2a5jiJRdWrJ8rTSvomndWiko7r%2BU%2BooZTlmGjJUqMVzJpu3vNNWd5NuWz/AJj8E/2ivgh%2B0D/wTK%2BO2kaRpvxo02DxEmm/bNP1PwTqEsU0dq08gVLkNHGcvsJMbeYpXCksoAqDQP8AgoN%2B17rn7TXhf9oXVfiVZ6p4u0hV03T59WgtbKzltZJGLWtyY/Ij8gtKxZnZdmd29NoZf2y%2BL/7KX7Nnx8vBqnxj%2BCPhvxBfLAsC6lf6Yhu1iBJEYnUCQKCzEKGwCxPevzZ/4Kdf8Ertd%2BG3i228X/scfBDxBN4PuNHMviGw0W7a/EF4kjBNlu8hnKkMpJG9VG4gDBFfrGR8WZPnUoYfH00qzi4uclBRd91e6aTvs3q%2Bx%2BQZ9wfnWRxnicvqydBTUlCMpuSts7WabVtZJaLo%2Bv6H/sYfF340/HL4IWvxH%2BOPgjw5oeo3t24sE8LeIYdStLu1VUC3CywySoN0nmjaJHwEGTkkD1ivye/Yy/aS/wCCjXwF8I6B%2BzR%2Bz1%2Bzza%2BNtJsPOu5xrXhLVLCa03yGa4g%2B0zywwoN7uEYqclvuknaf1N8Eav4i8QeDdJ13xd4TbQdVvNOhn1LRHvEuDp87IGkgMsfyybGJXevDYyOtfnPEeUTyzGyknDklJ8qjJOy6Xjdyjp3b9dj9M4ZzmGa4GMWp%2B0hFcznFpOXW0rKMrPsl6bmpRRRXzx9IFFFFABRRRQAUUUUAFQarqmmaHplzretahBaWdnA893d3MoSOGJFLM7seFUAEkngAVPXxX8fvG%2Bsf8FPvitqf7D3wH1i5j%2BD3hvUhb/tAfETTpikWqMhDN4U0%2BZf9ZJJwLyVDiGImLdvkK1vh6DrS1dorVvsv83sl1fztvQoutLV2itW%2By/z6JdX87dD/AMEyodS%2BO3if4qf8FGtdsZoLf4ya/b2vw9guoijx%2BENKSS206baw3Rm6ke7vCvdbiM9MV9Z1V0LQtF8L6JZ%2BGvDmlW9hp2nWkdrYWNpCI4reGNQiRoq8KqqAABwAAKtUsRV9vWc0rLZLslol9y%2B%2B4q9X21VySsui7JaJfcvzCiiisTEKKK8i/bT/AGk7n9mv4Otqng/R11nxz4lvo9C%2BHPhpTl9V1q4ysCEdoo%2BZpWJAWKJySOK0o0p16qpwWr/r7urfRJsaTbsit%2B1B/wAlv/Zx/wCyzX3/AKhXiivZq%2BXp/hR4k%2BB9r%2ByX8L/GfxB1LxXrel/FS9Gt%2BItWvJJ5r%2B9k8GeKpZ5A0hLLH5ruETokYRBgKK%2BoaVSMYzai7pPfv5/MHowoooqBBRRRQAUUUUAFFFFABRXi/wCxz8Xfjh8Srr4peDvj9e%2BFLvWfh/8AExvD1tfeD9FubC1uLVtG0rUkLRXN1cuZFbUHjLhwriNWCJkiuS/Yn/an%2BLvxo%2BIXiPwR8e/E2iaPrtrc6xLpPw/Pwn1vw/qCaba6tJaQ38d9qN3JDq8DQ/ZWeW0hWNXuo8su9VIB1/7eH/JEND/7LN8OP/U10SvZq%2BeP%2BChfxc%2BFHhrwf4M%2BFHiP4neHtP8AFPiD4w/D2XQfDV7rUEWoakkfjPRmka3t2cSTBVVixRSAFJOMGvoegD5Cv5Lz/glz8U7zXhbSv%2Bzl431lrjUBDGWX4bazcSfPNtH3NKuZGy2Plt5nJwqPz9cWV7Z6lZw6jp13FcW9xEskE8EgdJEYZVlYcEEEEEcEGo9a0XR/Emj3Xh7xDpVtf2F9bPb3tleQLLDcROpV43RgQyspIIIwQcV8nN4X%2BMf/AATHu5L/AOGWgaz4/wD2fGlaS78J2Ye71v4fKSS0lipJe%2B01cktb5MsA%2BZN6hlr0fdzBau1X8J/PpP10l3Uviv4/X8/%2BCfXVFc78Kfi38NPjl4C0/wCKHwh8bad4h8P6rD5ljqmmXAkjkHcHurA8MjAMpBDAEEV0VcEoyhJxkrNEbBRRRUgeSftc/sbfC79sDwjp%2Bm%2BLrvUdB8TeG7w6h4G8feG7j7PrHhm/xgXFrMBwCABJE2Y5V%2BV1OAR454H/AG6fix%2ByR4lsfgT/AMFSLCx0gXNwtn4V%2BPmjWpi8LeJSTiNL7qNFvmH3opT5DsHMUmMLX19Wd4t8I%2BFPH3hm%2B8F%2BOvDOn6zo%2Bp2zW%2BpaVqtmlxbXUTDDRyRyAq6nuCCDXVSxCUPZVVzR6d1/hf5p6Pyep0066UPZ1VzR/Fej/NPR%2BT1LtrdWt9ax3tlcxzQzRh4ZonDK6kZDAjggjkEVJXyFJ%2BwV%2B0L%2ByFcyeIP%2BCZHxtt9N8PiQyz/Av4mzXF94ZbJyy6ddKWu9HJyxCIZYNzD90AK0/CX/AAVX%2BGvg3xDafDX9u/4W%2BIP2e/Fd1KILd/HOybw7qMv/AE5a7BmzlHTiVoZOeUFU8G5rmoPnXZfEvWO/zXMinhXNXoPnXb7S9Y7/ADV0fVVFV9J1fSdf0y31vQtTt72yuolltbu0nWSKZCMhkdSQykcgg4NWK49jk2CuQ%2BPnij4k%2BCfg14j8YfCDw3p2seI9M0x7rS9M1W6MMFwyYZlZwRj5A2MlQWwCygkjr6%2BUPjl8ff2nfjb%2B0Z4w/Yi/Zp8O%2BC9Mi0Tw/BL4o8XeK76W4P2e7iXKQW0ABEg3lfnJHGTtypPoZbhJ4rE3XLyw96XM7RUU1e/XW9rLV30POzTGQwmGs%2Bbmn7sVFXk5NO1umlr3eitr2fLaL/wWN%2BAnxd%2BADwaR/wAJdonxI17Rp7bTPDHh3wvPqd7FesskSzWjbFguFSQbxudSduGAORXJ/sxf8E3vjhqH7KsfjS%2B%2BLXxK%2BFvxYu7e8mW107x1OtpfXG9mt5dQgPmFTIcGRVYEZyQCSg%2Bgv%2BCfn7D2sfsQ%2BA9S8H6x8b9S8YjUZYpLeC5tPItdL2h9620ZkkKhywLHcA3lqdoOc/QVe5jM4weW1alDKFam5qXM/eultFRlD4ddVK7e6a3PAwWS43M6VLEZy71FBx5V7vK3a8nKM9Z6aOPKlezT2PgT9kXwn/wVP%2BD/AO0Pr134x/Zq8Ky6Z4%2B8XW2o%2BOfFt94gt2aK3WLy2%2BzmG437V%2BZo4zE5XdtOA28ffdFFeLmmZSzSuqsqUYNJL3U1e1kr3b2SSVrJJHuZVlccpoOjGrOabbXO07Xu2laK3bbd7tt7hRRRXmnqBRRRQAUUUUAFFFFABRRRQAUUVzfxW%2BMfwl%2BBPg64%2BIXxp%2BJeheE9CtR%2B/wBW8Q6rFZ26nGdu%2BVlBY44UcnsDTjGUnaKuxqMpOyV2dJXO/Fb4ufDD4F%2BAtR%2BKXxk8faT4Z8O6VCZdQ1nWr5Le3hXsCzkAsTwFGSxIABJAr5nm/wCCiXxq/afJ0P8A4JofsyX/AItsZjsX4vfEqG40HwjAP%2BesAkQXuqgEEYt4lQ8Hzcc1sfDD/gmnpOvePdO%2BPf7d/wAWL344%2BP8ATZvtGjR65Ypa%2BGvDcvY6Zo6EwxuvA%2B0TGWc7Q29TXZ9VjR1xEuX%2B6tZfdtH/ALef/bp1fVo0ta75fJay%2B7Zf9vP5HG33jT9p7/gqgp8P/CJPEnwc/Z6uuNS8eXlu9j4q8eWx6xaXA4D6XYyL1vJQJ5FZfLRAWavq74OfBr4Xfs%2BfDPR/g58F/BFh4c8M6DaC20rSNNi2RQoCST3LuzEszsSzszMxLEk9NRWVbEOpFQiuWC2X6t9X5v0SSM6td1IqEVyxXT9W%2Br8/uSQUUUVzmAUUV5l%2B0x%2B1p8JP2WPD9neeO7y71DXNamNt4V8GaBbG71jX7rtBaWy/M5zjc5wiZBZlFXTpVK01CCu30Gk27I6H44fHD4Yfs5fDDVfjB8YPFMOkaFpEO%2B5uZcs8jE4SGJB80srsQqRqCzMQAOa8V/ZZ%2BEHxO%2BNPxZP7eX7U/hibR9cmsJLL4WeAL0hm8G6PLjfLMOg1K6AUzMOY0Cwg8MKb8Hf2ZPi18dfiZpf7Vn7d1taLq2kTG5%2BHnwosboXGl%2BDiR8tzO4%2BW%2B1PacGfHlxEkRDow%2BmK7Zzp4Sm6VN3m9JSWyX8sX1/vS67LS7lTairLc8Z/ag/5Lf%2Bzj/wBlmvv/AFCvFFezV4z%2B1B/yW/8AZx/7LNff%2BoV4or2avPICiiigAooooAKKKKACiiigDxf4E/seax8CfGni/wAa2n7WXxK8RyeOPFcPiDXrHxDaeHRA92lrb2ZCfZNIgdI3t7S2iYB84hDKVdnZtT4f/stQeE/jQvx58bfG/wAa%2BOtestDvtG8O/wDCVHTI4NEsby4tri6ht49PsrXeZHsrMGS4M0gW3UBxuff6pRQB4z%2B3h/yRDQ/%2ByzfDj/1NdEr2avGf28P%2BSIaH/wBlm%2BHH/qa6JWp4Z/bA%2BDWtfGnUf2efEV7f%2BFvGFpdyR6bpHiuyNkdchU4Fzp8jHy7uJucBGLjB3IuK0hSqVU3BXtq7dF3/AK%2BdiZTjG13a56lRRRWZR84/FD9hzxD4O8e6h%2B0D%2Bwn4/tfhx421Gb7R4h8PXVq03hjxZJ3N/ZoQYZm6fa7fbKMsWEmal%2BF//BQTw5b%2BM7T4Iftf%2BA7r4O/EG6fyrCy8QXSyaNrzjjdpmpgCG4zlf3LmOYFgpjJGa%2BiawPiZ8K/ht8Z/Bt38PPi14E0rxHod%2Bm270rWbFLiCT0O1wQGHUMMEHkEGu6OLhVioYlc1tpL4l89pLyl8pIvmT0kb9FfLq/sgftNfsu/6Z%2Bwj8eheeHIeV%2BEfxYuZ9Q0yJB/yzsNRBa8sAAMKjmePJ5UAVe0L/gpT4H8D6tb%2BCv21vhZ4g%2BB2uzyiGG88WKtx4evJD2ttZt82zDHOJjC4zyooeBlUV8PL2i7LSS9YvX/wHmQcl/h1PpSiquia5onibSbfX/DesWuoWF3EJLW9sbhZYZkPRkdSVYH1BxVquFpp2ZAVn%2BKfCnhbxz4fu/CXjbw1p%2BsaVfwmK%2B0zVbNLi3uIz1SSOQFXX2IIrQopptO6BNp3R83eCP8Agl1%2Bz38E/inpvxQ/Zc8U%2BNfhRDbaul9rHgzwP4nki8N62A%2BXhuNLnEttGrDK5t1hcZyGBrrP25fFuu%2BHvhBpfhrQfFN7oLeMPG2i%2BHLvXtPlMU2nW13dok0qSD/VMYwyB%2BNpkBBBxXstZvi/wd4Q%2BIHhu78HePfCum63o9/F5d9pWr2MdzbXKZB2yRSAq4yAcEHpXR9ZqTrRnVblbvv9/X5327HR9YnOrGdV81vv/wCD87n57%2BNP%2BCg3jH9lb4Ma78Mv2eNNv/HWueIfE%2BvJ8HrjxX4raeKLTLaKJY3%2B2X8rPeqLnz44YmlLOYym8fIp3f8Agn/rXjP9nL4KW0%2BneJdH%2BL/xb%2BMPj2%2Bk1V7%2B0m8NnTr22smmvoNRnlS5njigMXB8jcWvEKxbZN1dp%2B2t46/4JWax4VuvgP8AF/xRZXF4xtY7PQfASy3N9ZSWylYYoEtVeO2ZVJXy2Cqy4DAgCvE/2Mf%2BCanxl0/xvc/G/wDZ5udR%2BCPhObQL/TdC0Xx/BPruq6k18FW51iW3%2B0wR2F2QiGPhkTbtMLIct9d7Oh/YknODo81nJzWlVp%2B6k9JWV72jG1025aq3zsMfg8Rn9pyjWfM%2BVRu3RXJaTm0nHVpXfMpNyso2TZ9baN/wUX%2BC1z4U8J%2BINe0DxDaz%2BINEs9T123stLe7i8KwXNw9rHJqMyYWCM3EU8QfB/wBRIxCqpI9/r468W/sGfEew1rxN8Dvh5oumt8OfiDbeF7TXfFN5rzLqGm6XpOxbnTfswhxN9pVJiJQ4Ae/uCygBc/Snx20X46a78N7vTv2cfHfh7w54rM8T2Op%2BKdBl1KyVA4MiPBFPC53LlQwcbSc4OMV8pXp4bmj7J793sul9NO3Xa/U%2Blr08PePs3v3e3r27ddrnY0V8q/bf%2BC23hz5ptA/Ze8Wxp977PqPiHQ5ZB7K0d6oP1bFSWv7R3/BVrSZDbeJP%2BCZngvUwkbsbvw38f4cSMFJCiO602IjJAAy2OecAUvqc38M4P/t5frYX1ST2nF/9vL9bH1NRXyr/AMNo/wDBQuxP/E5/4I8eM2UdX0r4veFrgfgHvI2/Sl/4b3/bAhGLv/gkH8YlbuIfFnheQfmNTo%2Bo4jpy/wDgUP8A5IPqdfy/8Cj/APJH1TRXyt/w3j%2B2ZcfLp3/BID4uM3YXPjTwtCPzOpGk/wCGxf8Ago9ff8gr/gj74ghB%2B62s/Gvw1APx8maYj8qPqNfry/8AgcP/AJIPqdfrb/wKP/yR9VUV8qn47/8ABXnxP%2B58P/8ABPX4WeGSeFn8U/HiW6A9yllpLfkGNH9k/wDBbPxR%2B4vfGn7Mfg2J/vy6doniDXZox/smWazQn6rR9TkvinBf9vJ/kmH1Rr4pxX/byf5Jn1VRXyn/AMMY/wDBQvxn%2B5%2BK/wDwVp8Q2trJ/r7P4a/CjRdFIHok92t7KuPXd74oP/BH39m7xbz%2B0N8XPjT8Wx/z7/EP4vapLa5/69LOS2t8H%2B75e32p%2Bwwsfiq3/wAMZP8APlQexw0fiq/dFv8APlR6h8c/2%2Bf2J/2aI5v%2BF7/tU%2BBPDNxB9/TtR8SW/wBtJ7hbZWMzn2VDXlf/AA9Rt/iiPsv7GP7F/wAZPi203FlrqeFD4b0GU%2Bp1DWjbAr7xxyewORn134I/sO/scfs2eVJ8Bv2XfAfhS4iHy3%2BjeF7aG6b3a4Cea592YmvU6OfA0/hg5f4nZfdHX/yYfPg4fDBy9XZfdHX8T5NPgn/grx%2B0Oc%2BNfi38N/2fNBn%2BY6d4F05/FXiEIeDG99fJDZQtj%2BKO2lx1B9Oh%2BFf/AASo/ZI8C%2BMbf4rfEzRdb%2BLnjm25i8b/ABj1uTxBewnOQYI5/wDRrTB6fZ4Y8dB0FfSNFKWNr25YWgu0Vb73u/nITxda3LC0V/dVvve7%2BbEVVVQqgAAYAHaloorkOUKK848XftZ/ADwpoPjHV4PiTpes3PgTT5rvxJo2hahDc3tsIgNyGMONrgsqncVCs67yuc1514w/an%2BIvjPWfDPwi8KWEnwy8Wax4uOj66fFOmQam2mZ027vrYRiC4EMv2kWkiJIHZQY5E27yldNPB4ip0svPTpf127J9O5Si2fRlUvEfiTw74P0K78UeLdestL0ywgaa%2B1HUbpIILeMdXeRyFRR3JIFch%2Bzf8WtY%2BMfwyHiDxXo1vpuv6ZrGoaL4j061ctFBf2V3LaymMtz5bmISx5JJjlQ5Oc1594l/wCCf3gD4wfFe8%2BJ/wC1H8QfEHxNs49Va68L%2BB/EMscXh7Q492Y1FhAqx3cig7fOufNJGOAeaIUaUaso15ctuyu35LZfNu1u%2BwJK%2BpzGo/tp/GD9qe8m8Gf8E6PAMOpaX5jQah8a/GNpLD4cssHa5sIvlm1eZcMB5e2AMF3SkHFd9%2Bzd%2BxT8P/gL4gvPiv4m8Ran49%2BJuswCPX/iT4rKyX86dTb26qPLsbUEnbbwhVAxuLkA17DZWVnptnFp2nWkVvbwRrHBBBGESNFGAqqOAABgAdKlq6mLtB06MeSL36t/4pforR8mDlpZaBRRTLm5trK3kvLy4SKGJC8ssrhVRQMkkngADvXGSeOftQf8lv8A2cf%2ByzX3/qFeKK9mrwr48eKvDHjf4ofs0eK/BniKx1bS734x372eo6ZdpPBOv/CF%2BKRuSRCVYZBGQe1e602mnZgmmFFFFIAooooAKKKKACiiigAormfhZ8afg58c9Eu/E3wT%2BLPhnxjpthqUmnX2oeFtet9Qgt7yMK0lvJJA7qkqh0LRkhgHUkcik8HfG34M/ETxfrvw9%2BH/AMXPDGu6/wCFpxD4m0PR9ft7q80iQlgEuoY3Z7diVYASBTlT6GgDgP28P%2BSIaH/2Wb4cf%2Bproldz8ZvgR8IP2hfB8ngP4z/D/TvEGmO2%2BOG9i%2Be3k7SwyKQ8Mg7SRsrDsa4b9vD/AJIhof8A2Wb4cf8Aqa6JXs1VCc6clKLs11QmlJWa0Pmxfhf%2B2p%2Byp%2B9%2BBnjT/hcXguH7vgjx5qYt9eso/wC5Z6qRsuQO0d2ucKB51dh8G/25vgR8W/E4%2BGep3%2BoeCvHKgef4D8eWJ0zVAT/zySQ7LpTjIeB5FI5zXsdcl8YvgN8Gf2gvDB8HfGr4aaR4l08EtFDqlmrtAx/jik%2B/C/8AtoVYetdn1mjX/jx1/mjZP5r4X/5K/Mx9nOH8N6dnt8nuvxR1tFfOK/srftOfAX9/%2ByJ%2B03PfaTF/qvh/8XfN1axVegjt9QQi9tlA4UMZ1H93HFPH7eutfCY/Yf2zf2bvFfw5WPiTxVpkJ17w8w6BzeWamS3B64nhjwOp4JpfUpVNaElPyWkv/AXr9zkP2yj/ABFy/l96/Wx9F1V1vQ9E8S6TcaB4j0e11Cwu4jHdWV7brLDMh6q6MCrA%2BhGKx/hn8XvhV8Z/D6%2BK/hJ8R9E8S6a2P9N0PU4rqNSf4WMbHa3%2BycEdxXRVySjOnKzTTXyf6Gqaauj5t1r/AIJk/CHwvq9x4v8A2TPiD4t%2BB%2BtTyGaQfDzUwmkXMvYz6TcLJZSKPRY0P%2B1VceKf%2BCovwIPk%2BKPhv4E%2BOuiw/KNR8KX58M66VHV3tLtpLOVsfwxzxZ9B3%2BmqK61j60laslUX95Xf/gStL8Wac766nzfpP/BUz9mDS9Sh8OftAW/i34OavO%2ByOx%2BK/hefSoXPcpe4ezdfdZzn86978G%2BOvBHxF0OPxP8AD7xlpWu6bN/qdQ0bUYrqB/pJGzKfwNXdV0jSte06bR9c0y3vbS4QpcWt3CskcqnqGVgQw9jXg3jH/gl1%2BxH4l1uTxf4Y%2BDw8C6%2B/K6/8M9WuvDl0j/386fJEjt1Pzq3Jz1ovl9TdSg/lJfjyy/Fh7j8j6Br4f%2BN3wcsP23v%2BCm918IPirda1p3hD4b%2BAYrn%2BxrfXpoRrr3ZP%2BkxLEAIkUyeVId4djAg5XIHWfE/4F/tEfspeANU%2BJ/g//gqD4ksPDOhWpuby1%2BL3hex8RxYBAEf2iJbW7JZiEUCR2YsAAzEV5P8Asm%2BJP%2BClGo%2BOvEn7cmpfso%2BGvGL%2BPtOsbCz08eKj4auo7C1TEdxb2t0lyojn3B8S3AYlSRhGUn3MooTwdGvjaNWOkXCEtYtTk46LmVr8vM9G7LW6bR89nVKhj8Rh8A2pXmpzj/cipO8uycuVLX3npqk7fa3wX/Zu%2BBH7PGiDQPgr8K9G8PQbQsktjaDz5veWZsySn3dia7avmv8A4eD%2BN/CP%2Bj/Gv/gnz8dPDkyf8fFzonhq28RWaDuRLpdzM5A9fLHFTWH/AAVp/wCCf8l2mmeJ/j2vhW8c7Ws/G/h3UdEdG/un7dbxLx7Ej3rx62DzOvN1JxlNvd357/NOTPcpYaGHpqnSgoxWySSS%2BS0Po6ivPfBn7W/7KnxGCH4f/tMfD/XC/wB1dJ8Y2VwT7YjlJz7V39vc295AtzaXCSxuMpJG4ZWHqCOtcM6dSm7Ti16pr80i2mtx9FFFQIKKKKACiiigAooooAKKqaxr2h%2BHbQ6h4g1q0sYF6z3lysSD8WIFeZeNv28f2JfhyHHjf9rj4b6dIn3refxpZed%2BEYlLn8BWlOjWqu1OLfom/wAkxpN7HrFFfNjf8FZf2L9YJt/hd4m8WeP7o/6u18AfDrWdVMn%2B7JDamI/990h/bh/aM8a/L8Ef%2BCaXxUvx/wA/XjvUNL8MwfXE9zJPj/tju/2a6f7Oxq%2BKHL/iaj/6U1%2BRXJLsfSlFfNW//grP8Sfu2/wR%2BFllP3d9S8Uajbj6AWVuW/76B9qQ/sDfFn4hfvP2kf8AgoN8WfEytxLpXhC5tfCmnyL3Rk06MXDL25uCcdSaPqlKH8StFel5P8El%2BIcqW7PpQSxtI0SyKWUAsoPIz0z%2BVeLfCvxX8QPhd8e/F/wf%2BNHxYvPENjfaNB4p8Ka1rNpaWogthIbW9sgYIooxHA/2RwWBci8%2BZmNdR%2Bz5%2Byp8A/2WNJ1HR/gV8P00VNYuEn1e4k1C4u7m%2BlRSqyTT3MkksrAEjLMetaHiT9nj4JeM/inp3xr8Z/DbTdY8T6NaG20XVdWiNydNQkljbJKWS3ds/NJGquwADMQABEZ4eEpx1cWtHZXvpbq7a3vrsJOKufNFt8EvE3ifxT4S%2BDlx8O9Uv9Os/EfiGSXxxZ7G0vUfCWrrdTyqblCQLlrj7E/l7Tuki342ksPSPAf7HPi7W59Tn/aT8a6brkp8P6RpGj3vhuC4sbpJNOeSSLVmlMhaK9MkgP7s7E8sYzvYV9BdOlFa1MxryVo6fnve9%2Bl%2By0G5s534XfC/wt8IPCEXgzwkb6S3W4mubi71TUZbu6u7iaRpJZ5ppWZ5Hd2ZiScDOAAAAOiorzz41/tY/s4fs6xqPjL8YtE0S6lx9n0qS582/uM9BFaRBp5SfREPUVyxjWxFS0U5SfbV/gZynGKvJ2PQ6jurq2sbaS9vbiOGGJC8ssrhVRQMliTwAB3r53b9qL9qv44D7L%2Byt%2Byjd6Rp0vEfjf4xyPpFoB2eLTo917cKRyN4gB9R1p1t%2BwPc/Fa5j1v9tn46698UZFcSL4VjH9keGoGByoGn2zZuNp43XMkuR1Aro%2BqRpa15qPkvel9ydl85fIx9s5fw4389l%2BOr%2BSLPin/goD4P8R69c/Dz9kTwBqnxj8TW0hium8MSrFomnSf9PerSf6PH3%2BWMyycY2ZrPg/Y4%2BLH7RNxHr37enxXj1rTt4kh%2BFXgl5rLw7CQcgXUhIuNTIIB/elIsg/usGvoLwx4V8MeCdBtvCvgzw5YaRpllGI7PTtMs0gggT%2B6kaAKo9gKv0/rcaOmGjy/3nrL79o/9uq/94PZOf8R38tl/wfn9x4Z8fvDnh7wh8Uv2Z/DHhPQrPTNNsfjBew2Wn6fbJDBbxjwT4owiIgCqo9AAK9zrxn9qD/kt/wCzj/2Wa%2B/9QrxRXs1cTbbuzfYKKKKQBRRRQAUUUUAFFFFAHyr%2Bwt8UvDUPxZ%2BO2nQ/C/4i6FaeIPjLb33ht9b%2BD3iHSbW6sm8O6JYrNHJdWEUYjFxY3KE5AQRhmwjozcR%2Bwp8P/iDpfxh%2BFPhjVvhR4o0PUPhP8M/GOg/ErXtZ8NXVlZ6nqd/rOlzQta3Usaxamty9nd33nW7yrGHHmFJJitfcNFAHzx/wUL034rz%2BD/Bmo%2BHPGnh618LQ/GH4ejXtGvfDE9xqF458Z6N5bW94t7HHbBW2lg9tMWAIBTII2vHKftz/AAy8Y6l4s%2BH8vhf4neF7u7eeHwjqAGi6tp0ZPENtdruguFUf891Rj0396n/bw/5Ihof/AGWb4cf%2BprolezVpSqezeyafRr/hmvkzGvR9tFJScWtmnb/NP0aaPEvBv7fPwK1PX4fAvxYOrfDHxPMdqaB8RrA6aZm6fuLliba4BPAMcrE%2Bgziva4ZobiFbi3lV43UMjo2QwPQgjqKzfGPgjwZ8Q9Bm8K%2BPvCWma3plwMT6dq9jHcwSf7ySAqfyrxaX9gnQ/AEz6l%2Byj8afF3wrn3F10nSr3%2B0dEZz1Ladeb41B/wCmRi9iK2thKuzcH5%2B8vvXvL7mc18wobpVF5e7L7neL%2BTie%2B0EAjBGQeorwEfEP9vr4Qfu/iF8EvDPxR0uLrrHw91T%2BzNSCDqz2F8xjdyOcR3H0Har/AIb/AOChf7Ml9q8Xhb4ieJdR%2BHWuSnA0X4laPNosufRZLgCCTPbZI2e3UUPB12rwXMv7rv8AgtfwGsxwqdqjcH2muX8X7r%2BUix8Sv%2BCf37K3xJ8QN45h%2BHJ8LeKDkp4t8B382iakrn%2BMzWbR%2Baf%2Bugce3Fc6Pgb%2B3p8IRn4K/tZaV4706PiHQPjD4fBnCeg1PThHIW95IJPfNfQOlatpWu6fFq2ianb3lrOm6C5tZlkjkX1VlJBH0qxVRxuJiuWb5kuklzfnqvk0dHsaT96OnmtPy0f3HzuP2xvj/wDDb9z%2B0b%2Bwr41sol4bXfhvdQ%2BJ7JgOshjh8u7jXvgwEj36177oGt2XiXQbLxHpqTrb6haR3Nut1bPDKEdQyh43AZGwRlWAIPBAIq3Ud3DLcWstvBdPA7xsqTxqpaMkYDAMCCR15BHqDWVWpSqW5YKL62bt9zvb72XCM47yv9xwHwU%2BJnxA8c%2BNfiF4X8ZaXoyW/hLxUmmaZfaPJLi4jezgu9sqydJUW4jVip2k5wBjFReA/wBpbw543bW9Tn8D%2BINE0DQ5NQEvi7Wo7VNMuEspniuJUljndkRWjk5lSPhGOMCvPrDX/CX7DWkeILn4zftceFbj%2B3NcvNbmfxTYQ2eo3EssKqFC2sgEoDRoP3dvnYNoHANfKEmqftfftZWHjTUv2Pv2VtF8D%2BC/E2hR2%2Bt6xFmO08QTJdNcS31lb3EFqbmeZGMYMqBSC4kfLgp7WHyn63z1bKNP3bTb5Y9L25rXb1slza72vdeTiM1oYWcaN%2Bao7%2B5H3peV0r2S0u5cq8z3L/gpD%2B0t%2Bx38U/2MPFfg7VfjLZnVNQgP/CMaVbxyjUZdVt2WW2T7MyCVUaQRqXdQmyTOeQa%2BnPgXrXjPxJ8E/B/iH4jad9k8Q3/hewuNdtQoXybx7eNpkwOBhywx2r4c%2BHn7Jfhv4L%2BONB/aL/ay0nV9dPiPxVqFz4l1zxvpa39/KIbBoNPguIYfNWCOV2llEKllUwWsbMxVQPsP9knw14q8D/s1%2BFtF8c6W%2Bn38OnPPJpRj502KSWSWKzCjp5ETxwhe3lYp5osHRy6GGw8nJRm3zO2ras1Fb2XKm76t2emxnl9LF1MfPF10ouUVHlXRJuScns5e80raJXWu56VUN/p9hqlo9hqdjDcwSDEkM8QdGHoQeDXgcX/BUb9ii0kW18ZfFDUPCdznD23jLwhqmlFD6Frm2RPyY12/hP8AbO/ZD8dhR4O/ai%2BH2ou/SG18YWTSD2KeZuB9iK8eWCxtNXlTkvk/zSf5nsKvRk9JL70Q%2BM/2If2M/iIXfx1%2Byf8ADfVpH%2B9PfeCrGSXPqHMW4H3Brgbj/gkb/wAE7Xme50r9myy0aRzkv4a13UdKOfb7HcRY/CvoXSdb0XXrUXuh6va3sJ6TWlwsin8VJFWqcMbjqStGrJf9vS/K/wChupytoz5t/wCHXPwM03jwN8Zfjd4YUfdTQvjbrqKv0Ety/wCtH/DuW/tuNH/4KBftJWYHQf8ACxoLnH/gVZy5/GvpKiq/tHHdZ39VF/nFj559z5t/4YM%2BM1pxpH/BTX47IB0%2B2z6FcH820wZo/wCGJv2m04g/4KifFoD/AKaaD4eY/n/Z1fSVFH9oYruv/AYf/IBzy/q3%2BR82/wDDEf7SkvF3/wAFQvi6w7%2BTovh6M/mNOo/4YC%2BKV6Ma3/wUv/aBk9RY6roltn/vnSzivpKij%2B0MX0a/8Bh/8gHPL%2Brf5Hzaf%2BCb0F1/yG/27P2kr0H7w/4Ws9rn/wABIYsfhij/AIdU/su6p/yPniX4q%2BKs/e/4SL4z%2BIZQ31CXiA19JUUf2jjulRr0svyig559z530f/gk3/wTl0e7F%2B37JXhfUpx/y28QJNqbH6m7kkz%2BNem%2BCf2XP2ZvhoyN8Of2dvAugGP/AFbaL4Ss7Ur9DFEtd3WX4j8c%2BCfB8Rn8W%2BMNK0tAMl9R1COAY%2BrsKieLxtfSVSUvK8n%2BF/0Jc5W1ZqABQFUAADgCivIvF37f37EHgYMPEv7Wnw9hkT79vB4rtZ5R/wBs4nZ/0rmD/wAFOf2W9Y/d/DIeOfHM38MPgv4a6xfbvpILYRn8HojgcbNXVOVvRpfe7L8TF16CdnJff/w59CUV89/8NkftAeLePhH/AME7fiZeD/n48Z6jpfh%2BL64muZJcf9s8%2B1IdX/4KieOvnsPBvwZ%2BHttLwRqeraj4hvIR67YY7SEkf75HtVfUasfjlGPrKP5LmYvbwfwpv0T/AFsfQtUvEHiTw74T0uTXPFWvWWmWUIzNeahdJDEg93cgD8TXg/8AwyL%2B01444%2BNX/BQrxtLAeTYfDzQNP8Oxg9x5oSe4x/21B9CKuaB/wTQ/Y20/VI/EXjH4WS%2BONWQ5bVviNrV3r8zt/eIvpZIwf91AKPY4OHx1b/4Yv85cq/AOetLaNvV/5XF8S/8ABSr9j/S9Vk8M%2BCPiRP4%2B1pOF0T4a6Nc6/O7f3d1kjxqf951FZ5/aF/bi%2BKx8r4H/ALGEPhSyl/1PiD4w%2BJo7QqPU6dYefOT7O8f4dvefDfhbwz4O0mPQfCHhyw0qxhGIrLTbNIIk%2BiIAB%2BAq/T9vhKf8Olfzk7/hHlX4sOSrL4pW9F%2Bruz52P7In7RvxX/fftN/tseJJbST5pPC/wtsU8N2Iz96NrhWlvZkxx/rkz6dc%2BhfBX9kP9mj9niRrz4P/AAa0XSL%2BXP2jWjbm41CcnqZLuYvPJnn7znqfWvR688v/AI36/onxS07wR4k%2BE%2Boafo%2BtaxJpWj%2BIZ9Rtm%2B1Xa28tx/x7oxdYmSCXa5O4lDlFGDSeJxdeLgnaPZWivuVr/O5Elh6DUpbt2u7v8dbfgeh1leMPG/hfwF4av/F3ivVRbWGmxh72VInlZASAAEjDOzEsAFUEkkAA5rw34h/Fr4leFPiR4s8aj4gTw6X4O8S6RZ3fhKW2g%2ByzaReRW6SXYcR%2Bd5oln8wP5m1VhZNnUny7wx8NzqUdr8Dvhvt0jx2NJvo/GEZtjEr6lpl4t1pur3YUASGe4Cnz8HzkllXJ24F08EmuactNP83f5Na67nFWzNxk4U4Xeq16vVK3fVPRtOy%2B7698A/EXwj8TdEbX/B2pPPDHO0FzFPayW89tMoBaGaGVVkhkAZSUdQwyMjmvN/id%2B1Z4i0bxxf8Awl%2BB/wCzx4u8eeJtOZEvpEtf7M0eyd0WRRNqN0FjJ2OrYhWU4OMZ4rU%2BBHhzx3H4/wDHXxI8XeB7rwxF4nvNPkj0S61K3uS1xb2gt5bsNA7KokVIIwCQxW3VmVSxUen1g/Y0aruuZevXztvbbRo6l9YxGHVpcju7u2trtaKW19HqnbtseA/GG48eXXjz9mG5%2BJ%2BmaXZ6%2B/xevTqlrol3JPaxS/8ACFeKfljkkRGYYxyVHOa9%2Brxn9qD/AJLf%2Bzj/ANlmvv8A1CvFFezVg3d3OuK5YpXuFFFFIYUUUUAFFFFABRRRQAUUUUAeM/t4f8kQ0P8A7LN8OP8A1NdEqbxla/tseCPFeoeI/h/qfg3x34fuLp5rfwxrEMmj6hZxE8QQ3cfmxS4H8Usak929Yf28P%2BSIaH/2Wb4cf%2BproleyRyxSgmKRW2sVO05wR1H1q4T5Hsn6nNisMsTFLnlBrVOLs/yaa8mmjxGH9unwP4RlXTv2jfhr4u%2BGN1uCNdeJNIM%2BmO/omoWnmwEe7sn06V614N8eeB/iJo6eIfAHjHS9csJPuXukahHcxH/gcbEVqTQxXETQTxK6OpV0dchgeoIPUV5L4x/Ya/Zn8V6w/irS/h//AMItrrZK6/4HvptGvFb%2B8XtGQOf98NV3oS3Tj%2BK/Gz/FnFyZzh/hlCqv7y9nL7480H84xPXKo%2BI/C/hnxjpEugeLvDtjqthOMTWWpWiTwyD/AGkcFT%2BIrxz/AIUh%2B138OPm%2BEX7V0XiKzj/1Oi/FHw8l2SPQ31mYJvxZX/Hv6T8JNU%2BL%2Bq%2BGJH%2BNvhDRNH1mG8eJY/D2ryXlrcwhVKzK0kUbx5YsNjAkbQc84ClDkXNGSf3p/dubUMZOvP2VahODt1SlF/8Ab0W18mlfseZap/wTr/ZtttQl134S2fiD4Z6nM25774a%2BI7jSVJ97dGNsw9miI7dKgPwh/bw%2BGymT4b/tW%2BHvGdpGMR6Z8TvCKxShB63umtESf9poW9Tmue/a3/bI%2BFf7Mvxg8PSal8ddRF/dX8ceteDLSKO9h%2BxCOTJEKRGVLh5DEqbXBJcFgEBYeY/En42ftJft8eOLL9nLRPh/rPwh%2BHutLFPrGoeLlk0/WvEVjuYy2tthJEhLxqxKckqMs219re1hsLmFanGtXdqT3lNX0W9r2lJ%2BUW%2BmqPn8VmeT4arOjRi/bKSio03a7e13H3IrvzpNdpOyLuk/8FXPjbrOs678PvAv7GVx8RNe8PyNb3eq/DXxBPf6MZwOQbhrJdvUcDfnsa4O2%2BOvjL456k6ft1ftu%2BJfglFcTbE%2BH3hzwnqHh1Yo88CTVL23BkLDhgGK9cEA19a/A34i/A/4baXbfCP4dfDebwl4Q06z1FtB1Z0gjsLyOwl8u8kDCUyghsv5kyjzV3OGbBNegeB/iR8PfjFpF5J4Yunvbe3lEF7bahpc1uylkV13RXEaMVZGVlbBVgcgkVrLM8JhJP6rhuT%2B%2B7Sn6%2B8pQjftFNrbmClgq%2BYRisRjed6%2B5Zxg7b/C6dSaXduzWtnfTxP9mr9kb/gm7pcq%2BJvgroXgzxrqTHzZPEF5rcWvXUj95fMkkkCN7oFr6QVVRQiKAAMAAdK8o8dfsKfsc/Ei4N94r/Zt8Ivdltxv7HR47O5J9fOtwkmffdXO/wDDv7wNoHy/Cf4%2BfF7wVEv%2BqtNE%2BIl1c2yH/rjf/aEx%2BFebicRHHT561abf973vylp8kj2cNh62X0%2BSjh6aj/cfL%2BEo6/OT9T3qivBh8Af22PDPPgv9vBdTij/1Vp41%2BG9jdbh6NNZvbP8Ajgmj7f8A8FMfDnz3Phz4KeK4k6rZ6lqujzSD2EkdygP/AALFc/1aL%2BGpF/Nr81%2Bp0/XZx%2BOjNeiUv/SZfoe7yxRzRtDNGrowwysMgj0IriPFn7MX7Nfj0sfHP7PfgfWS/wB86r4Ts7gn8ZIzXn//AA0V%2B2ZovPir/gn3fXMa/wCsm8LfEnS7z8Qlx9mc/TFH/Dc2oad8niz9i3456ay/6xofBEeoIPobK4mJH4VcMPi4O9N/%2BAyX6SQnmGCa9%2B6/xQkvzgw1b/gmB%2BwDq1yb3/hlrwzYzHpLokUunsPobV48fhVX/h2V%2BzLp3PgzU/iN4bI6HQfi1r0O36BrtgPwFW/%2BHj/7M9h8ni9fHPh1%2B8evfDDW4Nv1ItGUfiaktf8Agpf%2BwjdTC3l/aW8P2kh/5Z6n51ow%2BomjUiujnztLeb%2B9/wDyRl9bya/xwXzS/PlKA/4J9Wlrxov7Z37QVkB90D4oS3OP/AqKX9aP%2BGH/AInWP/ID/wCCiHxwi9BfX%2Bj3WP8AvvThXX6b%2B3P%2Bxbq4H2H9rP4cEnosnjSyjY/g8oNbdl%2B0/wDs1akAdO/aG8DT56eT4ts2z%2BUtQ8Rma%2BJP5wX60zaNTLpfDOPymv8A5M82/wCGR/2n7fjTv%2BCk/wARVA6fafC3h%2Bb%2BdiKT/hln9sZeIv8Agpl4wA/2/h34cb/2zr1yD42/Bi6GbX4u%2BGJB/wBM9ftj/J6sL8Vvhc4yvxJ0A/TWIP8A4qo%2Bt4xbxX/gEf8A5A0UcK9pf%2BTf/bHjf/DK37YMnFx/wUx8Zkf9M/h/4dT%2BVnS/8Mf/ALSF1xqn/BSP4nOD1%2ByaDoMH8rA4r2J/i18K4hmT4meH1Hq2swD/ANnqpc/Hf4H2YJvPjL4UiA6mTxFbL/N6Fisa9or/AMAj/wDIA1hVvL/yb/7Y8n/4YV8cXnza3/wUG%2BPM57ra6/pdqp/79acCPzo/4d4%2BGrzjxB%2B1h8fdTU/ejn%2BLd7CjfVbbyhXol9%2B1d%2By3pYJ1L9pPwBbgdfP8Y2KY/OWsLVP2%2Bv2ItIBN3%2B1n8PWx1Ft4stZj/wCQ3arVfNJfCn8oL9KZlKrlsPiqR%2Bc1/wDJnMf8Ovv2P775/Ffhvxb4gkP3n8QfEvXbrd9Va82H/vmtTw5/wTX/AGBvC8om079kfwLO4Od%2BqaDHfMT6k3AfJqu//BTT9hguY7D9oCw1FgcbdH0u9vT%2BAghfNN/4eJ/A7UuPBHgX4o%2BJifu/2F8KNZfd9DJbIKtyzpqzc0vVr9YmSxeTp6Tg/Sz/ACUj1Pwj8Ffg34AKnwH8JfDOiFPuHSNBt7bb9PLQYrpq8GP7anjrWP3Xgj9hP4z38h%2B42qaNYaXEfq11eKw/FaP%2BF4ft3a7%2B68PfsL6XpG/7tx4q%2BKlouz3aOyguM/QNXNLDYmTvNr5yX/yTZqswwiVoKT9ITf8A7ake80V4N/Zv/BTDxL%2B6u/FHwW8JxP1ex0zVNYnjHsZJLZCfqtJ/wy9%2B1J4o/dfEn/goH4q8hvv2/gnwjpej4/3ZHjuJR/32an6vTXxVYr0u/wAl%2Bo/rlWXwUJv15Y/nK/4HvVcJ8RP2of2bvhIJB8TPjx4R0OSPO621HxBbxzE%2BgjL72PsATXAf8O5/gFrnz/FjxJ8QPHz/APU5/EPUrmP/AL8xyxw49tmPau7%2BHf7Kf7M3wlMcnw1%2BAPg/RZo8bbqw8PW6T5Hcy7N7H3JNHLg47ylL0SX5t/kHPmU9oRj6ycn90Ul%2BJwZ/4KJ/BjxH8nwV8A/EX4jt0EngzwJePb57ZublYYMf7XmY96P%2BFt/t9fEL938P/wBlPwx4Kt25j1L4j%2BNBcSbfU2mmpJg%2BxmX0OK97oo9tQj8FNf8Abzb/AA91B9WxdT%2BJWfpFKP4vmZw3wR8LfH3w9Z6hdfH34s6L4lvb2WN7O20DwydOttNUBt8aFppZJgxIO5yCNvTmsr4nfCv4v%2BMfjd4b8deFfGXhzTdF8P6XcJHHqWjT3l0LueRFlljCzxRqfs6GNXbft82Q7DkV2Hjn4qfDH4Y2f9ofEj4i6HoEG3cJdZ1aG1Uj2MjDNeXz/t%2B/ArWJWs/hFpvi34i3KMVaLwJ4TuryIH3uWVLcD3MmKUHXlN1Ix38tO3kvxMMTicrwsFQr1kmmnZzvN2d9lzTf/gJ3esfAX4b%2BLNY0vxP470Ya3q%2BkS%2BZaapeYjkOJBKiusARJUR1VlV1YKVB6812deHn4m/tyfEP5PAP7OfhvwRatymo/EPxN9qnKnv8AY9PDYb2adffFIf2WfjP4/wD3nx6/a/8AFd9C3LaL4FtovD1ng9UZ4t9zIvbmYZ/SlKDaXtJrT5/gtPxM4Y9yb%2BqYacr9WlTT9XO0n/4Az0P4pfH34J/BOz%2B2/Fn4p6HoAK7o4dR1FEml/wCucWd8h9lUmvOv%2BGvvG3xG/cfs0fsy%2BLPFET/6rxD4ki/sDSSp6SLJdr58y%2B0cJz6%2BnYfC79k79nL4M3n9rfDz4Q6PaakW3PrNzAbq/du5a6nLzE/V69DqeahHZN%2Bun4L/ADL9jnGI/iVY0l2guaX/AIHPRfKB4J8aJPG8vxB/Zjk%2BJFrpcGut8X706nFok0klokv/AAhXinIiaVVdlxjlgDXvdeM/tQf8lv8A2cf%2ByzX3/qFeKK9mrJu7uepCPJBRu3bq9367a/IKKKKRQUUUUAFFFFABRRRQB8u/Ab9sb42/ED4xeFpPG2meFl8B/EzWvF2meCrPS9NuYtV0uTRbuWKGS8uHuXiulu7e2uZiscMBt28uPM%2BTILvwr/an%2BLuu/tpeK/gb8WPE2ieGdFt/E9zpvgDQL/4T63aXPie2i0u3uzcWuvT3Y0%2B7kV2uy1vBA0gjtXJACM46Lwd%2BwZ4G8BfEmb4jeF/i743gFtdazdeFNCefTpbDwtPq16t5qUtij2RdmnlDj/SXnEKTSxwCFXxW/ffstQeIvjlovxr8e/G/xr4ih8La1c6v4R8HakdMj0nRb6azuLJp4vs1lFdTFba7uo0FzcTKonYgblRlAOM/4KF/Fz4UeGvB/gz4UeI/id4e0/xT4g%2BMPw9l0Hw1e61BFqGpJH4z0ZpGt7dnEkwVVYsUUgBSTjBrtfF/7Ifwp8Q%2BJb3x14Xv/EPg/wAQahO019rXg/X5rKS4kPJaSPLQyknrvjOe9Zf7eH/JEND/AOyzfDj/ANTXRK6bxF8Vvif4P127i1n4B6rqOjRzsLTVfDWoQ3crx5%2BVntmMcinHULv/ABrKtXp0EnO9vJN/fZO33Hm5lSy6rSisZT5op6Plk%2BV23vH3o6dU12uc5/whf7aHw%2B58JfF7wx47s16WfjLR20%2B7Cj%2BEXVllGb3aH6%2BtH/DUPj7wd%2B7%2BNX7LXjPRlX7%2BpeG0j12yVe7FrU%2Bco/3oR710WiftR/A7V71dIv8AxtHomoHhtO8S20mnTKfTFwqAn6E13tpeWmoWyXlhdRzwyDMcsLhlYeoI4NKliKFdXpzUvRp/8FfNI4KGFhUV8vxstOjlGrFeqn76/wDA0cB4G/aw/Zv%2BI11/Z3hX4x6I97u2nTb66%2Bx3YPoYLgJJn/gNed/twfG74oWWseEv2T/2cNSis/H3xNknSHXXOV8P6XCoa5vyB/HtysfTLBsHcAD7P45%2BFHww%2BJtr9j%2BIvw70TXY9uFGraXFcFR/sl1JX6iviTQf2Vvh/8f8A9vm7HwG0/WPAHhX4KrPY6r4g0XWJVurzW7iPiC0jnMiQQxKfnIQK%2BSCCGUj3cmp03iJ16qTjSjKWu3Na0LrrebS5evXRM4s3r5/RoQw9oTdWSinByhO287KSlFe4n73MlG997H0F8Dv%2BCcn7N3wH1FfGfh2w1q/8ZSRSC%2B8c6trs82pXUkrBpZGJbywzMMkhAeTknJJ7zxF8FNS8XePNO8SeJvidqt7o2k6wmq6f4cks7VY4btFZYyJkjWVo13swRiTu2/NgYPN/8Kw/bB8IfP4M/aX0bxHEnEdl448IIGx6G4sZIiT7mM/jR/wtH9sDwp%2B68X/sw6R4gROZL3wV40jBI9RBfRwn8N5NcFbF4nEVHUqTcn3f6dvRJJdEbUpZbg6KozwVSlFO9lByi3vdulKd9Vd80Xe13qchrX7KvxWufhbeeEtY1HTNSXRPDz6X4csdNmZJdUje5Et087yhEhmngXyNoJRTI7F8EBfT/g34b8WS%2BMfF3xZ8ZaDc6PP4lurSHT9FvJ4pJrSztYSieaYXePzHlknfCOwCsg3HFc//AMNn%2BDNF/wCSl/CX4j%2BElX/WXGseCriaBT/11sxMh%2Bua2fC37YH7LnjKQQaF8evC5mJwLa81aO1mz6eXMUfPtiplXnOLTFhK3DlLExdPEpSX2ZSUW2k0tJqEtE2krW9Wrur8Rvj58Vfhz4yvNLH7JvjHxF4fh8v7J4h8LX%2Bn3LXGY1Z/9FkuI5U2sWXoc7cjrWH/AMN%2B/BHR/l%2BJPhjx/wCDG/6mj4ealCg/7aRwyR4992PevZtN1XS9ZtVv9H1K3u4H%2B7NbTLIh%2BhUkVYpKdK1nD7m/%2BCetLD5i5OdHE6PVKUIyXonGUXbtv6s8u8Lftt/sg%2BMmEeg/tKeDGkY4WC61%2BC3lJ9NkzK2fwr0LQvFPhjxRB9q8NeI7DUYsZ8yxvEmXH1QkVS8U/DD4a%2BOAy%2BNfh5oesBhhhqmkw3Gfr5imvPdd/YE/Yw8QT/arr9m3wray5yJdJ04WLA%2BoNsUI/Cn/ALO%2B6%2B5/5E3zyHSlP51IP8po9eorxIfsBfA3TOfA/iX4heGD2/4R/wCJerxAfQPcOB9MYo/4Y68U6d8/hf8AbR%2BMdmw%2B6t5r9nfIPqLm0dj/AN9UclF7T%2B9P9Gw%2BtZtH4sKn/hqx/wDboxZ7bUV3ZWd/Ebe%2BtIpoz1SWMMPyNeL/APDP37Wdh8ujft66s6D7q6x8PtJuMfUxpET%2BdH/Csf28tM5sP2rfBWp46DU/hg8WfqYb/wDpR7KHSa/H/IP7RxS%2BLCVPl7N/lUR6TqXwc%2BEWsknV/hX4buiev2nQ7d8/99IaxL39lH9lvUiTqP7NngC4J6%2Bd4OsXz%2BcVcj/Zf/BRm0%2BWLxp8F74Do03h3VoGP/fN24/Sjz/%2BCjkP/ML%2BCVx/2/6xDn/yE9aL2sdqq/8AAmYyxtCXx4Sp/wCCov8A9uZuT/sQfsYXJ3TfskfDMk9SPAung/pDVdv2DP2JXOT%2ByT8Ofw8HWY/lHWX/AG3/AMFF4f8AWfDj4NTf9cvF2qr/AOhWNH/CU/8ABQxeD8G/hO3uvjjUB/Owq%2BfFL/l9/wCTv/MzeIy574Of/gg1Y/2D/wBiaM5X9kn4cH/e8GWR/nHVu2/Yp/Y3szutf2TPhpGR/EvgTTwfz8muf/4Sf/goc/C/B/4Sp7v431E/ysKP7W/4KMzfc8B/BaD/AK6eKdWc/pZD%2BdDninvW/wDJ3/mCxGXrbBz/APBCO0sf2Yf2atLIOm/s8%2BBrfHTyPCVmmPyird0z4Y/DbRCDo3w90O0I6G10mGPH/fKivLt3/BR2b/lj8Erb/trrE%2BP/AB1KP7B/4KJ3/wAtz8TPg9p4P8Vn4R1Odh/38vVB/KoaqS%2BKov8AwJs1jjaMfgwlT/wXFf8At6PbEjSJBHGgVQMBVGAKWvEv%2BFR/tzah81/%2B2P4asM9U0v4Vo2Po01638qP%2BGcP2mdT%2BTxL%2B3t4qMZ6po3g/RrP8mNvIw/M1n7KHWa/H/I1/tDFv4cJU%2Bbpr85s9torxI/sW3F7z4k/a7%2BNWoFvvKvjZLJT9BZwRED8apw/sKfskaxq82h%2BJ31zxPqdvGsl1ba/8RtUvJkRujPE11gA%2BpXmjkoLef3L/ADZLxeauyWHjG/8ANVj/AO2wZ674m%2BJvw38FKzeMviDoekhfvHU9Whgx9d7CvPNe/b7/AGNPD1z9iuP2i/DV7PnAg0S8OouT6BbUSEn2FVvhd%2By7%2BwRewzXvwt%2BC3w31YWVwYZ7q10y0v2hlABKmRg5VsH1zXrOg%2BFfC/hW2%2Bx%2BF/DdhpsOMeVYWaQr%2BSACj/Z13f3L/ADFTnnOIgpQlRSfVc9T8bxizyD/hurwTrPPw3%2BB/xX8Wo3%2BruNH%2BHt1BC3/bW9ECD8TR/wALy/bD8UfL4I/YrGlxSf6q98bePbO22j1aG0W5f8Mg17dWb4i8Y%2BEPCFv9r8WeKtN0uLGfN1G%2BjgXH1cgUe0pLaH3tv/Ic8LjuXmr4txX92NOC%2B%2BXO/wATyL/hEP8AgoH4xGzXvjN8OPBUR5x4Y8K3Oqzj28y8mjT8fK/A0f8ADGWqeKP3nxi/ar%2BKPicv/wAfFlba%2BmjWco9PJ06OE49i5rb1v9t39lLRLv8As8fG3SNSue1t4fMmpyMfQLaLITVL/hrW/wBf/d/DP9mf4ma8z/6i5n8Prpds/v5t9JEce4U0e3qL4bL0S/4LPKlV4acuWpiHWfb2k6v/AJLTuvwNDwP%2BxR%2Byh8O7z%2B1PDXwG8PNfbt39papZ/b7rd6%2BfdGSTPvur0%2BGGG3iWC3iVERQqIi4CgdAAOleQf8Jd%2B3B4t/5APwc8DeEIv%2BenibxPNqU2PXyrOJEz7eb%2BNJ/woj9ozxb/AMlJ/a71S1gfmSw8DeHbXTAvsJ5hPLj3BFZynObvJt%2Bp2YfF0aEOTAYKdvKEaUfvm4v/AMlbPXNQ1LTtIs5NR1W/htbeJcyz3EoREHqWJAFeY%2BIf21P2bNE1FtC0v4jxeItTHC6V4QtJtWnZv7uLRZAp/wB4iqNj%2Bxf%2BzPHrML%2BOdHufGGsFTIk3jjxBcapLIB1YRXEjR4%2BiAV3fw%2B1n4UQzXPgr4bQ6bZ/2exEun6dYC2jXaxRigCqrgMNpKZAPBINZOpBSSbV2aOtnVWSi3So30V26kvSy9nC9vU4P/hen7RfjobPhN%2Bytf2EEnEerfETWItMRD6m2h86cj2Kof5UH4LftNfED5/ix%2B002i2sn%2Bs0f4b6Ollj2%2B2XJlmP1UJ/h6rr/AIm8N%2BFbI6l4o8QWOm2w63F/dpCg/wCBOQK4S5/as%2BFF3O9j4D/tjxfdI2Gg8J6NNeKPrKAIQPcvWVXFYag7VJpPtfX7tX%2BBhXwuEpu2YYuU2/s8ygn6QpWk/vkch8cPC1n4K%2BI/7MvhTT9Qv7uGx%2BMF7Glzql89zcSf8UV4oO6SWQlnY56k17xXhfx71a9134ofs0axqOgXWlz3Hxhvnk0%2B9ZDLAf8AhCvFHytsZlz9Ca90reMlKKa6nv0lTjSiqatGytvtbTfXbvr3CiiimaBRRRQAUUUUAFFFFABRRRQB4z%2B3h/yRDQ/%2ByzfDj/1NdEr1Ky8b%2BDtR1WbQrHxTp8t9bymKezS7TzUcHBBTOf0ry39vD/kiGh/9lm%2BHH/qa6JXpviX4d%2BBPGAP/AAlHhDTr5iP9bcWilx9HxuH4GuLG/wBoqCeD5G76qfMk15OF2nfq015Ey5uhd1vw9oHiaybTPEeh2eoWzfet762SVD9VYEVwd3%2Byl8G47l9Q8IaVqHha7c5%2B1eFNXnsCP%2B2cbCM/ihq9dfBzQ/Dtu974W8f6/wCHYohu2Q6uZbZPcx3G9QPpipE0v48aOobTPGXh/XoiMganpz2shH%2B/CzL%2BOyvEq5hWdXkxuAbkle9OVOq0tk7KVKqk2mk%2BXo9b6HJXweHxNpV6Kl52TfyejXyZk/8ACrPjz4Z58EftEy38Kf6uy8YaDDd7vYzQGGT8TmvnL9h/xv8AGrSfjd%2B0Fqdh8LtO8VzSfEzy9YufD%2BupbxRzRwBdkK3A2uQAdwMgZW4PY10X7TP/AAUF8aaDc6j%2BzV8C/AA1z4vajbm20%2B08N366lBo7MQj3V0Y0zD5SkvscZzt3Dac13v7Jtl8E/wBlP4I6N8G21q%2Bsr22Vp9b1HX9JntpdR1CU7p7l3kXBLPkDLEhVVcnFe/HMMoyjJJzxNeWHeJ5VCNXmpvlhPmlK1aOkW7Rjdrn1cbxjzHzjo4fF5tTjhKsoxo8zk%2BZySk1yqC5%2BZc1ruWr5VZaN6df/AMNO6FpPHj74X%2BN/DgXiS4vvDUlxAp/662vmrj34rV8OftI/ATxW4h0X4uaC0xOBb3GoJBLn08uUq36V0mi%2BMvCPiQA%2BHvFOnX2en2O9ST/0EmmeI/AngjxhGYvFvg7StUUjBXUdPjnGP%2BBqa5qM8RWpqdCtCpHvZW/8ChJo95U80gvcqwmv70WvxhL9DRtbu1vYFurK5jmicZWSJwyn6EdayvFPw6%2BH3jiMw%2BNfAmjawhGCuqaXFcAj0xIprkbr9kr4AvO15pPgU6POxyJ9A1K4sGU%2BoEEij8xUf/DPOu6V%2B88H/tEePbBl%2B5He6nDqEQ/4DcxOx/76rX2uOj8VJP8AwyX5SS/MmpPHShy1sPGa8pxa%2B6cUUdS/YY/ZQv7tr%2B0%2BDVhpVw3/AC38PXM%2BmsPobWSPFQf8MfWOmf8AIl/tEfFbQ1X/AFUEHjN7uJPYJeJMMe1av/CEftQ6N8%2BkfHXQdXx0i13wf5efq9tOn6KKP7a/a20j573wH4F1pR207XrqzdvwlgcD/vo0fXGvjpTXyv8A%2Bkyf5HlvAZMneWAlB94wt%2BNGpH8jK/4Ul%2B1HpPy%2BG/2zbqeNfuReIvAthdceheDyGP1zR/Zn7eekfu7bxZ8KdbRej3mj6jYSN9THNMo/Ba1f%2BFwfGvTvm8Qfst6xsH3n0fxFYXf5K0kbH8qX/hpW3tv%2BQ18DviPYgfeZ/CjTqv427yCj%2B0MKvibXrGS/9tF7LKYfDXrU/wDt%2Bsv/AEuE0ZP/AAn37bGi/Lqn7OngzWcdX0X4gSQZ%2BguLMfqRR/wvz9orT/m1/wDYn8RBB1fSfFmlXX5AzRsfyFa3/DW/wNg%2BXV9c1XTX7pqfhi/gx9S0GP1qzY/tXfs3agdsPxp8PofS5v1hx9fMximswwDdvax/8CS/Noanhr2p5m15SlRf/pUIswP%2BGstXtfl1j9k34uWxH3jF4btrlfwMFy5P5Uv/AA2d4Jt/%2BQ18IPinpw7m8%2BG2o4H4pGwP4V29j8bvgxqeDp3xd8MXGenk6/bt/J61rTxn4Pv8Gx8V6bNnp5V9G2fyNbxr0J/DNP0af5M6oQx8/wCHj4y/7h0n/wCk1EeZf8N0/s6w8anq3iWxbut54B1hMfj9lIo/4b0/ZQX/AF/xTaH/AK%2BdAv4v/Q4BXrsU8M674JlceqMDTq1NvYZ70xFN/wDcJ/pVPH/%2BG%2Bv2Ph9/466Un/XWGdf5xilH7fP7HB/5uC0D8ZXH/stev0hVT1AP1oD2Of8A/P6l/wCC5/8Ay08hP7fX7HA6ftA6CfZZJD/JaP8Ahvj9kI/6v43adJ/1ytLh/wD0GM16%2BAB0FFAexz//AJ/Uv/Bc/wD5aeQf8N5/srN/qPiRdT/9e3hjUpf/AEC3NH/DcnwGn/5BC%2BL9QPYWXw91ds/99Wwr1%2Bori%2BsrQZuryKIeskgX%2BdDaW4OhnttcTTXpSf61Tm/hZ8WtG%2BLenXWqaJ4Y8R6bFazCMjxH4euNPaXIzujWdVLr7jjPFcR8crK98L/Erw18Q9I1KSGIa3aQax5fia6M8iyN5KwRWBJt2Vt4LsNr/KSATzXpN58QPAen5%2B3%2BNtIgx187Uolx%2BbVyer/EP9lSDxLH401vxr4A/tqBAkOqT6hZG7RRnCrITvAGTwD3PrWMsRh4fFNL1aX6meNjGrgo0qteHOmnzNqGzvdJSfpa9nrdq55p%2B0JfeHj441jXdTubaXWZNJ05/hrdROrSyzx3X7%2BCzfqZnYhXVDuZHIOVBxBN4TvNS8eXvgbT9FurbxZP4h11rvUxZSKH027tHKSmfG0x7zGiLuyrRgAALkemP%2B1f%2BzLparZ2vxY0VggwkOnlpsD2ESn9KT/hrD4R3Xy6BF4l1duy6Z4O1CTP0JhAP51i8xwH/P2Pyaf5XPGq4XKauIlUni4au7Ss3rvqm3zdIytdR01Mb4Daf4ju/H0Gt3HhTU9Ih03wFY6LrMeoabJbJLqEErf6ncoEyKu8eYmVIZMH06r4p/Cjxt8RdWtptE%2BPnibwpp8Vt5dxYeHbezDTvuJ8zzpoJHU4IGBxxnGc1nf8NF6hefLoX7PPxGu2P3TNoUdqp%2BpuJkI/Kk/4Wj%2B0JqH/ACB/2YZIFb7sms%2BMLSHHuVhEp/Cl9fwz%2BFt%2BkZP/ANtR6NH%2BzI4L6tKU6ibu%2BWNRX2/kUbLRXSlZ6t72WV/wxb4B1T5fHnxS%2BJPidD96HWfH16sR/wCAWzRKPwArR8PfsW/speGJ/ten/ATw3PPnP2jVLAXsmfXfcb2z75zUn2j9r3VPmi034eaMjdBNc3t9Iv4KsKk/jR/wrX9ozVfm1z9pKGyVvvw6B4Qt48D0D3Dyn8cCj63OXwUZv5KP/pUv0IhgcpUuanl7k%2B8oRv8AfVnNnf6J4d8P%2BGrQWHhzQrPT4B0hsrVIkH4KAKt7l3bNw3EZAzzivNf%2BGabLUf8Akb/jL8QNZVv9ZDN4me2if22WqxDFb/w/%2BBvwr%2BF2pTa14H8JJaXtzB5NxeyXMs80ke4NtaSV2YjIB69quFTFzmuamorzld/clb8T2KFTGuSj7GMIf402l5KMbfiil8a/EHxA8I6VH4m8IXjSQ25HnafDohuTIRlmaWQPmKIIDkqhbOME5C1B8UfD%2Bv8Aiu40TxX4bv7W60u2t5pLy0ufEdzYW0ysEaOUmAES4K8B8LhjzVz4rS6bqeoaR4O1G%2B1eKHUp2juxpd4IQYmxGBKcFirMwXCkHJ64rM8dado9m1zpEHg3R73TNE06HUbmw1ayNwHVd0YEW9tsW1I2OdpyRjAzmvGx2Y4Wk6/NJtRcU0rtqVnPbtypuW%2Bias3oYYjD1atSqm/dfLbV6SWulk7LuuvY42%2B1i11/WY/HKeHLuLWfEB0TU/Csj2bvKm5fKmtvMA%2BVY13NIpIBEhbB3V0vgbwT4v0jxb4e0O50C6ht/CsupodZaWMwXllOx8iJQG3l/wDUlsrgGE8ncK0o/EPilL%2Ba9sdaIifV5NKt9N8iNYoAYg0DqAu7cMhmySCCcAAU74V6gv8Aaljb6ZqE00OoeHUvNSgnu3me3vAyK24uSVLbnBHAzEeK83DZphqmPhS5ZXlLf3Vf3nZ2V73lFt6qUI2umr2xo5bGNVTlNt3T0SV9b677yV77pWWx1Hib4e%2BBPGt5Z6h4w8HaZqs2nbzYvqNkk3kF9u4rvBwTtXn2FakMNpp9qIYIo4IYlwqIoVUUew4ArF8YaF4h8RT29loHxBn0VUVjdx2drDJLMDjaQ0gPl455AOcjpjnIT4C%2BB7txN4tutW8QyA5Da5qssyj/ALZgrH/47Xt18VmKxM4YPCqXRzlUhGLdl0ip1HbbVR%2B6zPW9moVHKMEm93or%2Bul38zi/2mLi3u/jR%2Bzfc2s6Sxv8Zb4pJGwZWH/CFeKOhHWvaa8S/aO0zTdG%2BMH7Nul6RYQ2ttB8ZL5Ybe3iCIg/4QrxRwFHAr22vXp%2B09mvaW5rK9r2v1tfW19r69zZXCiiirAKKKKACiiigAooooA5jw58bfgx4x%2BIOs/CTwj8XfDGq%2BK/DiK/iHwzpuv20%2BoaWrY2tcWyOZIAdy4LqM5HrRa/G34M33xTufgXZfFzwxN43s7AXt54Oi1%2B3bVYLUhSJ3tA/nLGQ6fOV2/MvPIr44/Z48PeM/Bfxq8B6H4g%2BEHjXTtS%2BGPif4k3/j/xMfA%2Bota6lbaxrEkloLW5SArqRvXntb1ktzKYRaN54ieMLV3wd8P/AIgxftSeHvhvL8KPFEOvaD%2B074k8e614zl8NXSaVN4dvNC1O3tpE1Mx/Zp5Ct7Yaf9lWQzJ9mZjGI4VegD3v9vD/AJIhof8A2Wb4cf8Aqa6JXqbafpHh25u/E95rM1vAY2e6%2B13x%2BzxDqXw5wmMdeABmvIv22fg/%2B0/8YfCui6Z8AfFPgJbbSfGHhvXtQ8OeMNNvYX1VtL16x1Mxx6pbSyCxDJaFcmxutzED5A25fkr4Vfsq/tUftUWN/wDE/wCPXw70X4j29p4y13SE0Pxb%2B0vq9tp0M%2Bl6vd6dKY7W08MhQhltHZSX%2BZChZFJKi6eXZTjasKuNlb2T5o2i5SvZr3bSilpo%2BZta/C%2BnLisTj6EeXC01Ny0d5KMV66Sb/wC3VfzR9I%2BMP24Phz8TviqPgf8As52V98SNTjtJP7SuvDFqJ9M0h9p2vcXhkWElsbFClgCTllIrK/4Z4/ap%2BIekXup/tP8A7YosReQ77Dwn8P8ATItOhsQkgYrHcTB5ZmZV8s71bAZgGOQ1dP8AD3S/2x/hN4bi8H/DD9if4CeH9LhOY7DR/jTqdvFuxgsVTwqMsccsck9zW2/jT/goPIAJP2W/guwByN3x31Y4P/hLV4eaZHhKk8bLL/deJjCMnVSqNOD5k42XuK9nyLmh7qi/dlO5Qp4mrGm8dPmcG2owcoR1VrPW87K/vSaet7aK1z4Q/A74XfADTLnS/g54Rt9CV7q2N55MSm41G5k%2BeRrmQjdKxD8DOE52gDiu807Xr/UL62N0IXs9RacQQeUdyomcOWJwQwHTH8Qry%2BTxB%2B3vLqK6tJ%2Byj8FjcoMLKfjvq2RwR/0K/XBPPvUGm6r%2B35pd0buH9mP4PuQrLCknx71YrCrHJVB/wi3AJA9egFeCso4mjmarSxHNGU7yfPLVJqzlGV1rC9NU4WgvdlrZW9anLA0sP7OnTUUlZJJW%2BVrddbvV69z1PWvhB8LfELGTV/h/pMrnrMtkiSf99KA361m/8KJ8LWX/ACLPiLxHow7JpviCfZ/3xIzr%2BGK8Ym%2BOX7dnjL4y638Drb9mj4Z2Oq%2BGPDGk67dXlr8ftUjglg1K41K3hRT/AMIwSzq2lTlgygASR4LEsF6/TPFn/BRCwsY7Of8AZu%2BD90yA5nn%2BPGq735J5x4WA9unavRnkuXYnMpxq5dBRtdVU4Jyel01BU6kXvq5NO3mjklRoOCldX7Wa/HY7j/hX3xQ07jQ/jfdug%2B7Hq%2BjW9x%2BbII2/Wjb%2B0Lp/Ak8Iamq92W5tHb8vMGa47/hOP%2BChf/Rr/wAGf/D8at/8y9H/AAnH/BQv/o1/4M/%2BH41b/wCZeuj/AFew0P4FatT/AMNabX3T9ojL2a6N/f8A8Odj/wAJx8XrL/kJfBIzAfefTPEMEmfcLKIzR/wuWS241f4T%2BMbUj7zLo4nUfjC71x3/AAnH/BQv/o1/4M/%2BH41b/wCZeuX1b9o79u3R/jPoHwOuP2UPhI2qeIvC%2Br67Z3KfHXVPIjg065023mRyfDG4OzapAVAUghJMlSFDH9l5tT/hY%2Bf/AG/Toz/JU2HLPpL8j1r/AIaC%2BF0Xy6nq17YN3XUNGuocfUtHj9a2vCnxE8DeOWlTwh4ps9QaFQ0yW0wZkB6EjqK8z/4Tj/goX/0a/wDBn/w/Grf/ADL0xPF//BQKKVp4/wBlf4LK7j5nX466qCfqf%2BEWrfDUc9p117evTnDranKMvk1UlH70NKonq193/BPQ/HvjbUvDskFj4f0%2BO6uDNAbvzQ2yGGSURgnH8TEkKPbnioPiDrkNrcNYW/hSw1OSCwkvb0X%2BAqQJkYX5Gy5wcA4HHJFeT%2BLtL/bY8azRXmt/sh/BB7mOaJ/tf/C8NU81ljcMELHwtnacYI9CcVB4lg/4KL%2BICJIvgH8G7eSaxksb%2BRfjbqjGe2c52r/xTACMASA3ONx4NedjaXEXNiXTd1Jx5OVq6SUrq01ZNvkbbck1zWtZJxOM5Jp6r%2Bu5395pfwn1rVo4rj4H%2BHrqwa4t7e5vbrTbcuksyBkAQxkMo3KGO4EE8A8mqWj/AAp/Zw8W6pFZzfs9%2BG7eC%2Bill0u7XR7ZRdpGwDkKigp94HnqDXknxe%2BJP7eXwXsLTxxrf7Nfwil0W%2B8b%2BHdP/syy%2BNeqNN9tv9Qs9Jtm8xvDaqIVmuYZZBtLYRyueEPU%2BF7X/god4eu9Nln/AGd/gvcQ6PYTWmnRL8btXRlSRkJLt/wjJ3MBGoyAvc9%2BOWlhc8lio%2B2pxcObW8aVrXs7aXUOXWP2ufR6HLLA4Wo/fpQfrGH/AMieiS/shfs0ytv/AOFO6Qh9YY2j/wDQWFN/4ZB/Z2H%2Bq%2BHnl/8AXHVrtP8A0GUVxfi67/4KIeLIoI4fgZ8MdJMDMd%2BkftA6pGZM44bd4UbIGOPqaw/%2BEc/4KTR/6jwX4IH/AF0/aAvW/n4Pr0MVSnRruNLLo1I/zKVGN/8At2STVttyJZTll9MND/wGK/RHqH/DIvwCH3PCmoJ/1z8Uaiv8rij/AIZG%2BBPbw/rA%2BnjDVP8A5Jry/wDsb/gp0v8Aq/CHw9H%2B98c7tv8A3UK5f42/EL/gpN8B/gx4u%2BOPinwJ4DutL8GeGL/XdStbD403DXE1vaW0lxIkYfwmqlysZChmUZIyQOa5%2Bav/ANCp/wDgdD/5JE/2Vlv/AEDR%2B6J7x/wyN8CO/h3Vz9fF%2BqH/ANuaP%2BGRPgB0fwfev/108S6g38568v8A7K/4Khn73hP4c/h8bbof%2B6jR/Yn/AAU2b/W%2BD/h%2Bf9z463a/%2B6hRzV3tlT/8Dof/ACTD%2Byst/wCgaP3RPUP%2BGQP2cm/1vw0hl/676hcyf%2BhSmpbf9kj9mm1OY/gxobH/AKa2u/8A9CJryr/hGf8AgpC/M/gjwU3sn7Qt8n8vCFH/AAiP/BQt/wDX/DXwa/8A3crqyf8AoHhQUL650yqPzqUP/kGNZVlq2wsP/AYf/Is9ms/2cv2frDBtvgj4UBHRm8P27H8yhNa9j8MPhppeP7M%2BHmhW%2BOnkaRCmPyWvAv8AhBv265P%2BP34IeBbn1E/7UHiD%2BnhkVy/wRvf2m/j38GPCHxy0H9jv4aDTfGfhfT9d0631n9pPX2nit7u2juI0lVfDzIHCyAMFLDIOCRzW0ZZyv4eApR9asf8A2ygzeGEw9P4KMF6KK/KB9dImlaPDtRbe1jHYBUX%2BlUL34geA9Nz/AGj420i3x18/Uokx%2BbV8/wAHw2/ajgfzB%2Bw18CJG9bj46avKf/H/AAwa07LRv2v9OwbD9hz9n2EjvH8Y9QB/P/hFa2U%2BJ5bU6EPWdWX5QgdK9olZJL7z1a8%2BPXwasm2SfEjSpD2FvciUn6bM5qA/HzwBccaNFrWpN2XT/D13Jn6HywD%2BdcPZ%2BJv2%2BdPXbYfsn/BKAekPxz1Vf5eFqn/4Tj/goX/0a/8ABn/w/Grf/MvR9X4lqfFiKUf8NKUvxnVX4oLVe6%2B7/gnY/wDC3NavPk0T4M%2BLJ2PQ3VrDaqfxllBH5Uf8JZ8bdQ%2BTT/hHYWWekmqeI1OPqsMb/wA68m8A/tHft2/ETxX438IaP%2Byh8JIbjwH4oi0LVZLn466oEnnk0rT9TDxbfDBJTydRhUlgp3o4xgBm6j/hOP8AgoX/ANGv/Bn/AMPxq3/zL0f2VmdT%2BLj6n/bkKUP/AGyb/EOST3l%2BR2P9n/tA6l8l14l8LaUp72emz3Tj8ZJEB/Ktfwj4a8YaNdy3fin4iXGs%2BZHtSBtOht44jnO4BBuJ7csa83/4Tj/goX/0a/8ABn/w/Grf/MvR/wAJx/wUL/6Nf%2BDP/h%2BNW/8AmXrfD5Lh6FaNaVWrOS256s2v/AVywfzixqCTvd/ed743%2BGMfi%2B7fUofEuo2c7C3wkFxti/cyF0JCgNkFmxhhgnNRfEDwl/aOnvdG/n%2B2TRvaKlrtQXMDEkwSBg%2BVC7iWGG%2B8QRk159e%2BKf8Agojd3NvPH%2Bzl8IIFgcs8UPx41TbN7NnwqTj6Y61yw%2BOn7bfjL4x658Cbn9kn4StqXhrw1pGv3Ny/x51Zbd4NRuNTtoUQr4Z3F1bTJy4KhcSR4LEsF83M8kWLwuMhh6KhUqWSk56SdviSXNyuPNJK8dXrZxbT2pwoRqRlPVdVr/mvwse16r4UsL1tO8YaFpUy3bNC8htXXcUMe0NtkPllwpChyNwXgGoLn%2ByTdSalau1k5spZDIMRu9zDJhzJswJG7c5GOnWvPNP1L9v3TtKTRrf9mb4QLAibVWL4%2B6vGRyTkFPCwIPOOtTx67%2B3pFaJY/wDDJ3wUeKN96LL8dtWfDZzuy3hcknPfrXiV%2BF8zxy53yU5TjBzV24%2B1jFJuPJyyim3KUpJpycYaaM7KdfDUX7qvZu2iTs%2B976209LnoMQkGqo0lsU1GXVIp43ERy9uyLvBbH3VG8YJ6qK6bVLO6v7B7S01OW0kbGLiFVLKM843AjkcfjXkX/Ccf8FCh0/Ze%2BDP/AIfjVv8A5l6P%2BE4/4KF/9Gv/AAZ/8Pxq3/zL19FlXD1PLsPXozqOcau9rwe0rtuMk%2Bd8zvNOLdo9Y3eNXEupKMkrW%2Bf59NNtepD%2B0jaNY/GL9m20e7muDH8ZL4GadgXf/iivFHJIAGfwr2yvlf4n%2BJf2rdX/AGk/2dLX41/Bf4e%2BH9HHxc1Fo77wt8Tr7WLkz/8ACF%2BJtqGCfRbJQhBYl/NJBAGw5JX6or3qVKFGlGnBWUUkt3olZattv1bb7tvU523J3YUUUVoIKKKKACiiigAooooAKo%2BKPENh4S8Naj4r1UObXTLGa7uREuW8uNC7YHc4U1eqO7tLW/tZbG9t0mhmjaOaKVQyupGCpB4II4xQB83/ALGv7Uvx8%2BKnjDRvCvx/03wkj%2BN/hPp3xA8Lr4T0%2B5t/7Lt7iUJPpl009xMLqSETWm27jECyl5f3EWwbvK7D/go98Zfh18MD8afEvw/8GXXhvx38L/Ffjr4Z6BoWnXFjc2Utje2gt7TUrh55UuXvF1OGeSeKGDyXSZSk25Xr3n4AfsL%2BEP2dNVt9X8J/GXx1qcunaLp2gaGNfudOuBpXh%2ByeV4NGhK2SE2%2BZfnmkL3kgii33LeWuMbSf%2BCZ3wGtrTxB4e8SeKvFuv%2BHtW8Ja54Y0Pwxq2o2y2nhbSdXuEuL%2B105re3inQPJDblHnlnkhW2iSJ41XaQDpv2ZPi58Y/Efj7x/8C/j/AHfhnUPE3gW60yZdc8IaPcadY6hY39p5sTfZri5uXhlSWK5iYec4ZY45Bs3mNPYq87%2BAH7OelfAY%2BIdYuPiR4m8aeIvFeow3fiDxZ4wkszfXfkW0dtBFtsra2t44o4owFWOJcs8jtueR2b0SgAr5d%2BA37Y3xt%2BIHxi8LSeNtM8LL4D%2BJmteLtM8FWel6bcxarpcmi3csUMl5cPcvFdLd29tczFY4YDbt5ceZ8mQfUVeGeDv2DPA3gL4kzfEbwv8AF3xvALa61m68KaE8%2BnS2HhafVr1bzUpbFHsi7NPKHH%2BkvOIUmljgEKvigCnrnxU%2BOPw8/bU8I/DPWtR8A67pXxEbU0XSND8L3Vtrug6PYWs08Wo3d695LHdW4unitSgt4As2qR7GbD7sj/gnD%2B1P8Xf2j/AvnftF%2BJ9EsvHf/CM6Rqus/Dy3%2BE%2Bt%2BFL7w411HKZFkXV7uZ9RgMqPFHdQJHEWtpeXJwnW%2BBv2NP8AhAf2lPFn7S%2BnftKfEK7vfGk6nWfD2pRaHNYrbxW7w2tlDL/ZgvYLW3MjzRwpchfOeSR95ll8zY%2BDf7L9t8LfiLqnxf8AFvxp8ZfEHxTqWiW%2BjJrfjI6bG9np8Mskwt4YtNsrSBQ0srO7tG0jEIC%2B1FUAHqNFFFAHy7%2B01%2B2N8bfhX8U/GL/DzTPCzeDfhNovhvU/HdtrOm3M2o6xHql9cRTR2M0dzHHaNbWtv54aSK4E8koixCFMhm/bI/aV%2BJnwK/aF8HWdtq/h7wl4Gk8I6leeJfiL4j%2BEWs%2BIrbTZFvbBFtJb2wu7eDSIZI2llee7byv9GUnhK7b4z/sQ/Dj43fFI/EzXPHPirS4tRtdItfF/hrRrq1TTvFMGl3sl7YxXyy28kwWOaaXP2eWAyxyGKYyxhUE/x0/ZJuv2hPBMvwx8eftLfEOLwxqmj3Gk%2BLtB0xdFhi8SWU5cTQ3Mv9mmeENE7QFrSS3byz13/PQB55qX7Y3xttf2gLuWDTPC3/CsdP8AjNZ/DS5sH025Oty3lxpsE41Nbr7T5CxLeXMVt9lNuWMavP54OIa%2Boq8XuP2HfhrP8e/%2BF4Dxt4pjtH8Uw%2BKJ/AcdzaDQ5tei05dOi1Nk%2BzfafNW2SMCIXAt/MiSYwmUeZXtFABXz1%2B15%2B0T%2B0B4D%2BIEHwu/ZwtfCK6np/wANdd8b6zceMtNubqG6gsJLWKHTYRb3EBgkuHuJM3TGVYBCP3Exkwv0LXkf7S/7Hng/9pnULLWtR%2BJPi/wjqFv4f1Pw/faj4NvLWGbUtF1DyDeafMbm2nCxyNbQsJYhHcRFCYpo977gDmv2nPjv4yg/Yr/4a6%2BF/izwnoejab4LHjK8s/GvgO415rqFLVL22ggit9SsjHc%2BYECHMhMmwKobBrhr39rH9q34ffHXwH8NP2htc8H%2BCNIu/h94QvPFuu/8Kh17UdL1HxLqF7e22o6Vb6tFfrZ6QFaC0SD7YZmL3sf%2Bt4Q%2B4%2BPP2YfBfxH%2BGll8H/E/iTWW8Oad4o0nV7TSrUWkMaw6beW93a6YQluN1kJLWIMjZkdAUaQqxFVPjp%2By1B%2B0Frlsnjb43%2BNbfwks1jNqfw90w6ZHpWqyWtytzGZ5WsmvgGkSPekV1GjrGFK4Zw4B6pRRRQB4v/wUF%2BLvxw/Z%2B/ZH8afHr4BXvhSPWPBOhXeuXUHjDRbm%2Btru0tbaWZ7dEtrq2ZJXZEUSFyqAsSj8Crv7YPxP8XeBPB3hrwL8PdM0G4174j%2BMrXwppsvirTZL3TLVZ4Z7i5mubaOWFrlFtLW5xCJY/McopdQSRqftY/s42X7WnwI179n3Wvir4p8I6T4nspbHXL/wgunfa7mylieKa23X9pdRojq/LIiyAqNrrznO8b/srSfEr4dWfgjx5%2B0F461HU9J1PTtU0DxiYtHg1PSdSsySt5CINOS2Z5AzrIksEkLJI6eWFYqQDwST9u79q3xlof8Awhnwz0bwBbeNvCeheOtS8cXOs6RezabqT%2BHNYGlR21lHHdpJaC%2BbdOJpJLj7IoCGO5J3D62%2BF/j3TPip8NPDvxP0S2lhsvEmhWmqWkM%2BN6RXEKSorY7gOAfevEPEP/BNL4T6x4F0nwfo3xc%2BIGg3lnpviHTtd8T6LqViupeJLTXbtb3WIr15bN4wbm6UTeZbRwSwNkW7wKSp%2BgtD0TSPDOiWfhvw/p8VpYafax21laQLtSGGNQqIo7AKAAPQUAWq5r4xSfE2H4ZaxP8ABzWtB07xLFa79MvfE2lTX1jEVYFzLBBPbySjyw%2BFWWP5iuWxmulrC%2BJng7VPiD4D1PwXo3xB1nwrcajb%2BSniDw/DZyXlmCQWaJb23uLckgFT5kLjDHABwQAcF8BPij8YP2hv2I/h/wDGvw/c%2BGtH8a%2BOPhxomuNLeaVcXGl2d5eWUFxKfsy3CTSRKZH2x%2BerEBQZOrV4Be/tmftRaD8HNPXwHpHhW6g0f453fgTUPHng74Na7r%2BjyaFZ6JdXL6jaaJpt611GsWowppLkXMsSSwStnaVC%2BxeEv2Gp/Bn7JafseaT%2B1v8AFddBtfBCeFdK1%2BGfRLbWNNsY0SKJ4Li20uNVmSBBCspQnaS5zLiUaPg/9kbxN8PfghpPwN8A/tefEbRLXQrhF0nV9L0TwrDcWtglusEempCuifY1tk2h1It/ODHHm7MIAD0L4O%2BN9N%2BJXwn8NfEDSPHGkeJrfWdDtbtPEPh%2B0a3sdSLxKxuIInllaGNySyxtJIyAhWdiCT0lcv8ABX4Q%2BDfgH8KdB%2BDnw/iuV0jw9p6Wlm19ctNPKBktLLI3LyOxZ2buzE4HSuooAK8X/Y5%2BLvxw%2BJV18UvB3x%2BvfCl3rPw/%2BJjeHra%2B8H6Lc2FrcWraNpWpIWiubq5cyK2oPGXDhXEasETJFe0V4v8AAn9jzWPgT408X%2BNbT9rL4leI5PHHiuHxBr1j4htPDoge7S1t7MhPsmkQOkb29pbRMA%2BcQhlKuzswB4Z4I/b/APir4N%2BG/wAYviJ8XoPDVt4u8NaX4g1jRPhg3wo1rwzfX8dlfvp9leNqV/dSRatbyRrp6yXNrDsi%2B0xcgbEPvP7Mnxc%2BMfiPx94/%2BBfx/u/DOoeJvAt1pky654Q0e406x1Cxv7TzYm%2BzXFzcvDKksVzEw85wyxxyDZvMaZmufsEeBviJqviDVfj18YPHPxDOueCdX8JWkHiSfTrZNF0nU5IHvYbT%2BzbK1PmObS0xPMZZk%2BzJtdSXLdj8AP2c9K%2BAx8Q6xcfEjxN408ReK9Rhu/EHizxhJZm%2Bu/Ito7aCLbZW1tbxxRxRgKscS5Z5Hbc8jswB6JRRRQB4v8Ffi78cNa/a4%2BLPwF%2BKl74UutH8MaF4e1zwhP4f0W5tbmK01K51mH7PePNdTLcSoumRN5kaQLmVxsOAa5/xJ8RP2lvCv7fngv4QaZ4q%2BHOq%2BHPF2kaxrHiGzg%2BH15b6zpeg6ciRW%2B/Uf7VeKWQ6hqNuqq1oqsjXRVVKk10Gi/seaxoH7RfjD9pLTv2sviUNQ8Z6VZaZe6E9p4dOn2dpZz3U1pFAP7I88eUb26UNJNIzLMd5cqhXtNL%2BBfhXS/jh4l/aBTVtTm1/xJ4Y03QG8%2BaMw6dZWUt3Mi2yiMFGeW9leRmL7ykQ4EagAHjv/BOH9qf4u/tH%2BBfO/aL8T6JZeO/%2BEZ0jVdZ%2BHlv8J9b8KX3hxrqOUyLIur3cz6jAZUeKO6gSOItbS8uThPpavLvg3%2By/bfC34i6p8X/Fvxp8ZfEHxTqWiW%2BjJrfjI6bG9np8Mskwt4YtNsrSBQ0srO7tG0jEIC%2B1FUeo0AFeD/ta/Gb9oL4DeJPC/i7wZ4g8EXvh7WvF2heHbbwLfeHLyTXNcub2%2BWG5a0vY71YoTBatJdbGtJh5dpMzvGgLx%2B8V4z8Sf2OV%2BIn7TuiftTW/7R3xA0LVfD%2BhjStM0DTIdEuNLggebzblo0vtMuJoZbkCOOaWKVHaOGNFZAOQDhf22P2ofjN8LfGXiCz%2BDXhzwddJ8J/hTdfErxMPFmlT3M2owq11DFp9hJFcQixnlhtdQU3bidU3Rr5Lq7kVY/22fjFqHxrOvaVp3hc/CuL4vWHw6exl0u5/tyW5u9Mt7hdUW5%2B0%2BSkS3l1FbG1NuWMavN54OIa7j46fsI%2BCv2g2im8bfGDxxbTXfhe78MeL59IuNOgbxXoVzMJZNMvh9iKrF99Fkthbzok0oWUeY5Nqf9hz4aTfHr/hd6%2BNfFEVo3imHxRP4CiubQaHNr0OnLp0Wpsn2b7SJVtkjAiFwLfzIkmMJlHmUAe0UUUUAFFFFABRRRQAUUUUAFFFFABRRRQAUUUUAFFFFABRRRQAUUUUAFFFFABRRRQAUUUUAFFFFABRRRQAUUUUAFFFFABRRRQAUUUUAFFFFABRRRQAUUUUAFFFFABRRRQAUUUUAFFFFABRRRQAUUUUAFFFFAH/2Q%3D%3D\">"
      ]
     },
     "metadata": {},
     "output_type": "display_data"
    }
   ],
   "source": [
    "try:\n",
    "    HTML(anim.to_html5_video())\n",
    "# In case the build-in renderers are unaviable, fall back to\n",
    "# a custom one, that doesn't require external libraries\n",
    "except RuntimeError:\n",
    "    anim.save(None, writer=matplotlib_utils.SimpleMovieWriter(0.001))"
   ]
  },
  {
   "cell_type": "markdown",
   "metadata": {},
   "source": [
    "# Logistic regression\n",
    "Your assignment is to implement the logistic regression\n",
    "\n",
    "Plan:\n",
    "* Use a shared variable for weights\n",
    "* Use a matrix placeholder for `X`\n",
    " \n",
    "We shall train on a two-class MNIST dataset\n",
    "* please note that target `y` are `{0,1}` and not `{-1,1}` as in some formulae"
   ]
  },
  {
   "cell_type": "code",
   "execution_count": 64,
   "metadata": {},
   "outputs": [
    {
     "name": "stdout",
     "output_type": "stream",
     "text": [
      "y [shape - (360,)]: [0 1 0 1 0 1 0 0 1 1]\n",
      "X [shape - (360, 64)]:\n"
     ]
    }
   ],
   "source": [
    "from sklearn.datasets import load_digits\n",
    "mnist = load_digits(2)\n",
    "\n",
    "X, y = mnist.data, mnist.target\n",
    "\n",
    "print(\"y [shape - %s]:\" % (str(y.shape)), y[:10])\n",
    "print(\"X [shape - %s]:\" % (str(X.shape)))"
   ]
  },
  {
   "cell_type": "code",
   "execution_count": 65,
   "metadata": {},
   "outputs": [
    {
     "name": "stdout",
     "output_type": "stream",
     "text": [
      "X:\n",
      " [[  0.   0.   5.  13.   9.   1.   0.   0.   0.   0.]\n",
      " [  0.   0.   0.  12.  13.   5.   0.   0.   0.   0.]\n",
      " [  0.   0.   1.   9.  15.  11.   0.   0.   0.   0.]]\n",
      "y:\n",
      " [0 1 0 1 0 1 0 0 1 1]\n"
     ]
    },
    {
     "data": {
      "image/png": "[encoded data removed]",
      "text/plain": [
       "<matplotlib.figure.Figure at 0x7faa5b42fd30>"
      ]
     },
     "metadata": {},
     "output_type": "display_data"
    }
   ],
   "source": [
    "print('X:\\n',X[:3,:10])\n",
    "print('y:\\n',y[:10])\n",
    "plt.imshow(X[0].reshape([8,8]));"
   ]
  },
  {
   "cell_type": "markdown",
   "metadata": {},
   "source": [
    "It's your turn now!\n",
    "Just a small reminder of the relevant math:\n",
    "\n",
    "$$\n",
    "P(y=1|X) = \\sigma(X \\cdot W + b)\n",
    "$$\n",
    "$$\n",
    "\\text{loss} = -\\log\\left(P\\left(y_\\text{predicted} = 1\\right)\\right)\\cdot y_\\text{true} - \\log\\left(1 - P\\left(y_\\text{predicted} = 1\\right)\\right)\\cdot\\left(1 - y_\\text{true}\\right)\n",
    "$$\n",
    "\n",
    "$\\sigma(x)$ is available via `tf.nn.sigmoid` and matrix multiplication via `tf.matmul`"
   ]
  },
  {
   "cell_type": "code",
   "execution_count": 71,
   "metadata": {
    "collapsed": true
   },
   "outputs": [],
   "source": [
    "from sklearn.model_selection import train_test_split\n",
    "X_train, X_test, y_train, y_test = train_test_split(\n",
    "    X, y, random_state=42)"
   ]
  },
  {
   "cell_type": "markdown",
   "metadata": {},
   "source": [
    "__Your code goes here.__ For the training and testing scaffolding to work, please stick to the names in comments."
   ]
  },
  {
   "cell_type": "code",
   "execution_count": 72,
   "metadata": {
    "collapsed": true
   },
   "outputs": [],
   "source": [
    "# Model parameters - weights and bias\n",
    "weights = tf.Variable(tf.random_normal(shape=(X.shape[1],1), stddev = 0.001, dtype=tf.float32))\n",
    "bias = tf.Variable(0.0, dtype=tf.float32)\n",
    "s.run(tf.global_variables_initializer())"
   ]
  },
  {
   "cell_type": "code",
   "execution_count": 73,
   "metadata": {
    "collapsed": true
   },
   "outputs": [],
   "source": [
    "# Placeholders for the input data\n",
    "input_X = tf.placeholder(tf.float32, (None, None))\n",
    "input_y = tf.placeholder(tf.float32, (None, ))"
   ]
  },
  {
   "cell_type": "code",
   "execution_count": 75,
   "metadata": {
    "collapsed": true
   },
   "outputs": [],
   "source": [
    "# The model code\n",
    "\n",
    "# Compute a vector of predictions, resulting shape should be [input_X.shape[0],]\n",
    "# This is 1D, if you have extra dimensions, you can  get rid of them with tf.squeeze .\n",
    "# Don't forget the sigmoid.\n",
    "wx = tf.matmul(input_X, weights)\n",
    "sigmoid = tf.sigmoid(wx + bias)\n",
    "predicted_y = tf.squeeze(sigmoid)\n",
    "\n",
    "# Loss. Should be a scalar number - average loss over all the objects\n",
    "# tf.reduce_mean is your friend here\n",
    "loss_all_inputs = input_y * tf.log(predicted_y) + (1-input_y) * tf.log(1-predicted_y)\n",
    "loss = - tf.reduce_mean(loss_all_inputs)\n",
    "\n",
    "# See above for an example. tf.train.*Optimizer\n",
    "# Using Adam optimizer\n",
    "optimizer = tf.train.AdamOptimizer(0.01).minimize(loss)"
   ]
  },
  {
   "cell_type": "markdown",
   "metadata": {},
   "source": [
    "A test to help with the debugging"
   ]
  },
  {
   "cell_type": "code",
   "execution_count": 78,
   "metadata": {
    "collapsed": true
   },
   "outputs": [],
   "source": [
    "validation_weights = 1e-3 * np.fromiter(map(lambda x:\n",
    "        s.run(weird_psychotic_function, {my_scalar:x, my_vector:[1, 0.1, 2]}),\n",
    "                                   0.15 * np.arange(1, X.shape[1] + 1)),\n",
    "                                   count=X.shape[1], dtype=np.float32)[:, np.newaxis]\n",
    "# Compute predictions for given weights and bias\n",
    "prediction_validation = s.run(\n",
    "    predicted_y, {\n",
    "    input_X: X,\n",
    "    weights: validation_weights,\n",
    "    bias: 1e-1})\n",
    "\n",
    "# Load the reference values for the predictions\n",
    "validation_true_values = np.loadtxt(\"validation_predictons.txt\")\n",
    "\n",
    "assert prediction_validation.shape == (X.shape[0],),\\\n",
    "       \"Predictions must be a 1D array with length equal to the number \" \\\n",
    "       \"of examples in input_X\"\n",
    "assert np.allclose(validation_true_values, prediction_validation)\n",
    "loss_validation = s.run(\n",
    "        loss, {\n",
    "            input_X: X[:100],\n",
    "            input_y: y[-100:],\n",
    "            weights: validation_weights+1.21e-3,\n",
    "            bias: -1e-1})\n",
    "assert np.allclose(loss_validation, 0.728689)"
   ]
  },
  {
   "cell_type": "code",
   "execution_count": 79,
   "metadata": {},
   "outputs": [
    {
     "name": "stdout",
     "output_type": "stream",
     "text": [
      "loss at iter 0:0.3636\n",
      "train auc: 1.0\n",
      "test auc: 1.0\n",
      "loss at iter 1:0.1603\n",
      "train auc: 1.0\n",
      "test auc: 1.0\n",
      "loss at iter 2:0.1099\n",
      "train auc: 1.0\n",
      "test auc: 1.0\n",
      "loss at iter 3:0.0691\n",
      "train auc: 1.0\n",
      "test auc: 1.0\n",
      "loss at iter 4:0.0425\n",
      "train auc: 1.0\n",
      "test auc: 1.0\n"
     ]
    }
   ],
   "source": [
    "from sklearn.metrics import roc_auc_score\n",
    "s.run(tf.global_variables_initializer())\n",
    "for i in range(5):\n",
    "    s.run(optimizer, {input_X: X_train, input_y: y_train})\n",
    "    loss_i = s.run(loss, {input_X: X_train, input_y: y_train})\n",
    "    print(\"loss at iter %i:%.4f\" % (i, loss_i))\n",
    "    print(\"train auc:\", roc_auc_score(y_train, s.run(predicted_y, {input_X:X_train})))\n",
    "    print(\"test auc:\", roc_auc_score(y_test, s.run(predicted_y, {input_X:X_test})))"
   ]
  },
  {
   "cell_type": "markdown",
   "metadata": {},
   "source": [
    "### Coursera submission"
   ]
  },
  {
   "cell_type": "code",
   "execution_count": 80,
   "metadata": {
    "collapsed": true
   },
   "outputs": [],
   "source": [
    "grade_submitter = grading.Grader(\"BJCiiY8sEeeCnhKCj4fcOA\")"
   ]
  },
  {
   "cell_type": "code",
   "execution_count": 81,
   "metadata": {
    "collapsed": true
   },
   "outputs": [],
   "source": [
    "test_weights = 1e-3 * np.fromiter(map(lambda x:\n",
    "    s.run(weird_psychotic_function, {my_scalar:x, my_vector:[1, 2, 3]}),\n",
    "                               0.1 * np.arange(1, X.shape[1] + 1)),\n",
    "                               count=X.shape[1], dtype=np.float32)[:, np.newaxis]"
   ]
  },
  {
   "cell_type": "markdown",
   "metadata": {},
   "source": [
    "First, test prediction and loss computation. This part doesn't require a fitted model."
   ]
  },
  {
   "cell_type": "code",
   "execution_count": 84,
   "metadata": {
    "collapsed": true
   },
   "outputs": [],
   "source": [
    "prediction_test = s.run(\n",
    "    predicted_y, {\n",
    "    input_X: X,\n",
    "    weights: test_weights,\n",
    "    bias: 1e-1})"
   ]
  },
  {
   "cell_type": "code",
   "execution_count": 85,
   "metadata": {
    "collapsed": true
   },
   "outputs": [],
   "source": [
    "assert prediction_test.shape == (X.shape[0],),\\\n",
    "       \"Predictions must be a 1D array with length equal to the number \" \\\n",
    "       \"of examples in X_test\""
   ]
  },
  {
   "cell_type": "code",
   "execution_count": 86,
   "metadata": {
    "collapsed": true
   },
   "outputs": [],
   "source": [
    "grade_submitter.set_answer(\"0ENlN\", prediction_test)"
   ]
  },
  {
   "cell_type": "code",
   "execution_count": 87,
   "metadata": {
    "collapsed": true
   },
   "outputs": [],
   "source": [
    "loss_test = s.run(\n",
    "    loss, {\n",
    "        input_X: X[:100],\n",
    "        input_y: y[-100:],\n",
    "        weights: test_weights+1.21e-3,\n",
    "        bias: -1e-1})\n",
    "# Yes, the X/y indices mistmach is intentional"
   ]
  },
  {
   "cell_type": "code",
   "execution_count": 88,
   "metadata": {
    "collapsed": true
   },
   "outputs": [],
   "source": [
    "grade_submitter.set_answer(\"mMVpM\", loss_test)"
   ]
  },
  {
   "cell_type": "code",
   "execution_count": 89,
   "metadata": {
    "collapsed": true
   },
   "outputs": [],
   "source": [
    "grade_submitter.set_answer(\"D16Rc\", roc_auc_score(y_test, s.run(predicted_y, {input_X:X_test})))"
   ]
  },
  {
   "cell_type": "markdown",
   "metadata": {},
   "source": [
    "Please use the credentials obtained from the Coursera assignment page."
   ]
  },
  {
   "cell_type": "code",
   "execution_count": 91,
   "metadata": {},
   "outputs": [
    {
     "name": "stdout",
     "output_type": "stream",
     "text": [
      "Submitted to Coursera platform. See results on assignment page!\n"
     ]
    }
   ],
   "source": [
    "grade_submitter.submit(\"nishanthniv@gmail.com\", \"hcSCTgKn9NgyQWej\")"
   ]
  }
 ],
 "metadata": {
  "kernelspec": {
   "display_name": "Python 3",
   "language": "python",
   "name": "python3"
  },
  "language_info": {
   "codemirror_mode": {
    "name": "ipython",
    "version": 3
   },
   "file_extension": ".py",
   "mimetype": "text/x-python",
   "name": "python",
   "nbconvert_exporter": "python",
   "pygments_lexer": "ipython3",
   "version": "3.6.3"
  }
 },
 "nbformat": 4,
 "nbformat_minor": 1
}
